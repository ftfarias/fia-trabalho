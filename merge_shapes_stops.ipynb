{
 "cells": [
  {
   "cell_type": "markdown",
   "id": "c9c234a3-6a6d-45d4-be9a-7ad00c3763cf",
   "metadata": {},
   "source": []
  },
  {
   "cell_type": "markdown",
   "id": "d0e51b43-48fc-4e47-82ee-d33c6f97c654",
   "metadata": {},
   "source": [
    "ação.\n",
    "API: https://www.sptrans.com.br/desenvolvedores\n",
    "ENDPOINTS:https://www.sptrans.com.br/desenvolvedores/api-do-olho-vivo-guia-de-r\n",
    "eferencia/documentacao-api/\n",
    "Utilizar o GTFS da SPTRANS para dados complementares (Dados\n",
    "Estáticos/Cadastrais).\n",
    "Enriquecer os dados de paradas com o endereço da localidade, através de latitude e\n",
    "longitude.\n",
    "Dados do GTFS: https://gtfs.org/documentation/schedule/reference/\n"
   ]
  },
  {
   "cell_type": "code",
   "execution_count": null,
   "id": "f0455dc5-9a14-40bd-9a42-d785cb20ed6d",
   "metadata": {},
   "outputs": [],
   "source": [
    "import geopy.distance\n",
    "\n"
   ]
  },
  {
   "cell_type": "code",
   "execution_count": null,
   "id": "87013953-d89e-428b-9873-539eda67d397",
   "metadata": {},
   "outputs": [],
   "source": [
    "%%timeit\n",
    "coords_1 = (52.2296756, 21.0122287)# (lat, lon)\n",
    "coords_2 = (52.406374, 16.9251681) # (lat, lon)\n",
    "\n",
    "geopy.distance.geodesic(coords_1, coords_2).km\n",
    "\n",
    "# The latitude of Sao Paulo City, Brazil is -23.533773, and the longitude is -46.625290."
   ]
  },
  {
   "cell_type": "code",
   "execution_count": null,
   "id": "8119d492-98d8-4c38-a253-d3a66186e90e",
   "metadata": {},
   "outputs": [],
   "source": []
  },
  {
   "cell_type": "code",
   "execution_count": null,
   "id": "b4fe6357-0512-4901-af63-9bab9856e2c5",
   "metadata": {},
   "outputs": [],
   "source": [
    "import collections\n",
    "\n",
    "import datetime\n",
    "previsao = result.json()\n",
    "\n",
    "def convert_time(text):\n",
    "    h,m = text.split(':')\n",
    "    return datetime.datetime(2025, 1, 17, int(h), int(m), 0)\n",
    "\n",
    "hora_atual = convert_time(previsao.get('hr'))\n",
    "print(hora_atual)\n",
    "\n",
    "onibus = collections.defaultdict(list)\n",
    "for ps in previsao.get('ps',[]):\n",
    "    cod_parada = ps.get('cp','?')\n",
    "    ps_px = ps.get('px') # long\n",
    "    ps_py = ps.get('py') # lat \n",
    "    vs = ps.get('vs',[])\n",
    "    for veiculo in vs:\n",
    "        vs_p = veiculo.get('p')\n",
    "        vs_t = veiculo.get('t')\n",
    "        vs_px = veiculo.get('px')\n",
    "        vs_py = veiculo.get('py')\n",
    "        print(vs_p)\n",
    "        onibus[vs_p].append((cod_parada, vs_t, round(geopy.distance.geodesic((vs_py, vs_px), (ps_py, ps_px)).km,ndigits=3)))\n",
    "        \n",
    "    \n",
    "\n",
    "onibus    "
   ]
  },
  {
   "cell_type": "code",
   "execution_count": null,
   "id": "5c173e53-e6fa-4621-aa62-4cc28b238d09",
   "metadata": {},
   "outputs": [],
   "source": [
    "import datetime\n",
    "\n",
    "\n",
    "for cod,paradas in onibus.items():\n",
    "    print(cod)\n",
    "    paradas = sorted(paradas, key=lambda x: int(x[1].replace(':','')))\n",
    "    p0 = paradas[0]\n",
    "    for p in paradas:\n",
    "        hora_parada = convert_time(p[1])\n",
    "        diff_hora = (hora_parada -  hora_atual).seconds\n",
    "        speed = round(p[2] / (diff_hora/3600), 3)\n",
    "        print[p[0], para, diff_hora, speed] )\n"
   ]
  },
  {
   "cell_type": "code",
   "execution_count": null,
   "id": "d269f500-3d9e-4332-8d85-1aaa5bf3a30c",
   "metadata": {},
   "outputs": [],
   "source": [
    "\n"
   ]
  },
  {
   "cell_type": "code",
   "execution_count": null,
   "id": "04927eab-f524-497e-9f53-bf130481f5d4",
   "metadata": {},
   "outputs": [],
   "source": [
    "import openlayer\n"
   ]
  },
  {
   "cell_type": "code",
   "execution_count": null,
   "id": "88b00e92-41c1-4a25-b20f-d89a24b2c0b6",
   "metadata": {},
   "outputs": [],
   "source": [
    "# !pip install ipyleaflet jupyter-leaflet\n",
    "# conda install conda-forge::nodejs\n",
    "# !jupyter labextension install @jupyter-widgets/jupyterlab-manager jupyter-leaflet\n",
    "import ipyleaflet"
   ]
  },
  {
   "cell_type": "code",
   "execution_count": null,
   "id": "e3310003-8b50-49b7-96d1-402ef29a145f",
   "metadata": {},
   "outputs": [],
   "source": [
    "from ipyleaflet import Map, Marker\n",
    "\n",
    "center = (-23.5558, -46.6396)\n",
    "\n",
    "m = Map(center=center, zoom=10)\n",
    "marker = Marker(location=center, draggable=True)\n",
    "m.add(marker);"
   ]
  },
  {
   "cell_type": "code",
   "execution_count": null,
   "id": "51a3c9b8-0514-4fc8-8718-736c9ae49596",
   "metadata": {},
   "outputs": [],
   "source": [
    "\n",
    "\n",
    "result = posicao_por_linha(session, 1171).json()\n",
    "# print(json.dumps(result.json(), indent=2))\n",
    "vs = result.get('vs', [])\n",
    "for veiculo in vs:\n",
    "    print(veiculo)\n",
    "    px = veiculo.get('px')\n",
    "    py = veiculo.get('py')\n",
    "    print(py,px)\n",
    "    marker = Marker(location=(py,px), draggable=True)\n",
    "    m.add(marker);\n",
    "\n",
    "display(m)"
   ]
  },
  {
   "cell_type": "code",
   "execution_count": null,
   "id": "8145a26a-f4ad-45e4-9908-e453f0ab7aeb",
   "metadata": {},
   "outputs": [],
   "source": [
    "import geopy.distance\n",
    "\n",
    "coords_1 = (52.2296756, 21.0122287)\n",
    "coords_2 = (52.406374, 16.9251681)\n",
    "\n",
    "print(geopy.distance.geodesic(coords_1, coords_2).km)"
   ]
  },
  {
   "cell_type": "code",
   "execution_count": null,
   "id": "1da9c3ee-c520-4b3e-85cf-b5214fdfaf01",
   "metadata": {},
   "outputs": [],
   "source": [
    "import pandas as pd\n",
    "\n",
    "BASE_PATH = 'trafi_gtfs'\n",
    "\n",
    "df_agency = pd.read_csv(f'{BASE_PATH}/agency.txt', header=0)\n",
    "df_agency.head()"
   ]
  },
  {
   "cell_type": "code",
   "execution_count": null,
   "id": "47172d85-77b4-4840-a320-723af4d7cf20",
   "metadata": {},
   "outputs": [],
   "source": [
    "df_calendar = pd.read_csv(f'{BASE_PATH}/calendar.txt', header=0)\n",
    "df_calendar.head()"
   ]
  },
  {
   "cell_type": "code",
   "execution_count": null,
   "id": "3a6b9082-9680-4a32-a276-09274605a1ad",
   "metadata": {},
   "outputs": [],
   "source": [
    "df_fare_attributes = pd.read_csv(f'{BASE_PATH}/fare_attributes.txt', header=0)\n",
    "df_fare_attributes.head()"
   ]
  },
  {
   "cell_type": "code",
   "execution_count": null,
   "id": "49beab46-f6a6-4d36-aa03-ac7e864ee940",
   "metadata": {},
   "outputs": [],
   "source": [
    "df_fare_rules = pd.read_csv(f'{BASE_PATH}/fare_rules.txt', header=0)\n",
    "print(df_fare_rules.shape)\n",
    "df_fare_rules.head()\n"
   ]
  },
  {
   "cell_type": "code",
   "execution_count": null,
   "id": "5bf2c786-f346-4c39-a91e-128364990490",
   "metadata": {},
   "outputs": [],
   "source": [
    "df_frequencies = pd.read_csv(f'{BASE_PATH}/frequencies.txt', header=0)\n",
    "print(df_frequencies.shape)\n",
    "df_frequencies.head()"
   ]
  },
  {
   "cell_type": "code",
   "execution_count": null,
   "id": "c0eba092-0198-468d-b71e-6effc9b2dce6",
   "metadata": {},
   "outputs": [],
   "source": [
    "df_routes = pd.read_csv(f'{BASE_PATH}/routes.txt', header=0)\n",
    "print(df_routes.shape)\n",
    "\n",
    "df_routes.head()"
   ]
  },
  {
   "cell_type": "markdown",
   "id": "36cc8165-04c6-4098-977b-d827d4bfb637",
   "metadata": {},
   "source": [
    "# shapes"
   ]
  },
  {
   "cell_type": "markdown",
   "id": "f4cafce4-475a-4a00-b0e1-25fc9f706f5a",
   "metadata": {},
   "source": [
    "Primary key (shape_id, shape_pt_sequence)\n",
    "\n",
    "Shapes describe the path that a vehicle travels along a route alignment, and are defined in the file shapes.txt. Shapes are associated with Trips, and consist of a sequence of points through which the vehicle passes in order. Shapes do not need to intercept the location of Stops exactly, but all Stops on a trip should lie within a small distance of the shape for that trip, i.e. close to straight line segments connecting the shape points. The shapes.txt file should be included for all route-based services (not for zone-based demand-responsive services)."
   ]
  },
  {
   "cell_type": "code",
   "execution_count": null,
   "id": "d81963a0-7258-485f-a7b0-d73d832be9d1",
   "metadata": {},
   "outputs": [],
   "source": [
    "df_shapes = pd.read_csv(f'{BASE_PATH}/shapes.txt', header=0)\n",
    "df_shapes.describe()"
   ]
  },
  {
   "cell_type": "code",
   "execution_count": null,
   "id": "1f7377be-50dd-42c3-ae86-a97f207a18ed",
   "metadata": {},
   "outputs": [],
   "source": [
    "from ipyleaflet import Map, Marker, FullScreenControl\n",
    "\n",
    "shape_pos = df_shapes[df_shapes['shape_id'] == 81072][['shape_pt_lat', 'shape_pt_lon']].values \n",
    "\n",
    "avg_lat = sum(x[0] for x in shape_pos)/len(shape_pos)\n",
    "avg_long = sum(x[1] for x in shape_pos)/len(shape_pos)\n",
    "\n",
    "control = FullScreenControl()\n",
    "\n",
    "# center = (-23.5558, -46.6396)\n",
    "center = (avg_lat, avg_long)\n",
    "\n",
    "\n",
    "m1 = Map(center=center, zoom=12)\n",
    "m1.add_control(control)\n",
    "\n",
    "for p in shape_pos:\n",
    "    marker = Marker(location=tuple(p), draggable=False)\n",
    "    m1.add(marker);\n",
    "\n",
    "display(m1)"
   ]
  },
  {
   "cell_type": "code",
   "execution_count": null,
   "id": "54b519af-cda4-4ce5-90cc-fcece2a06717",
   "metadata": {},
   "outputs": [],
   "source": [
    "df_stop_times = pd.read_csv(f'{BASE_PATH}/stop_times.txt', header=0)\n",
    "df_stop_times.head()"
   ]
  },
  {
   "cell_type": "code",
   "execution_count": null,
   "id": "f0664e2f-3ac4-433e-b0f2-2a98bb14772d",
   "metadata": {},
   "outputs": [],
   "source": [
    "df_stops = pd.read_csv(f'{BASE_PATH}/stops.txt', header=0)\n",
    "print(df_stops.shape)\n",
    "df_stops.head()\n"
   ]
  },
  {
   "cell_type": "code",
   "execution_count": null,
   "id": "0f489ffa-ddc7-45fa-8aa9-f2baefb0bbee",
   "metadata": {},
   "outputs": [],
   "source": [
    "from ipyleaflet import Map, Marker, FullScreenControl\n",
    "shape_pos = df_stops[['stop_lat', 'stop_lon']].values[:500] \n",
    "\n",
    "avg_lat = sum(x[0] for x in shape_pos)/len(shape_pos)\n",
    "avg_long = sum(x[1] for x in shape_pos)/len(shape_pos)\n",
    "\n",
    "control = FullScreenControl()\n",
    "\n",
    "# center = (-23.5558, -46.6396)\n",
    "center = (avg_lat, avg_long)\n",
    "\n",
    "\n",
    "m1 = Map(center=center, zoom=12)\n",
    "m1.add_control(control)\n",
    "\n",
    "for p in shape_pos:\n",
    "    marker = Marker(location=tuple(p), draggable=False)\n",
    "    m1.add(marker);\n",
    "\n",
    "display(m1)"
   ]
  },
  {
   "cell_type": "code",
   "execution_count": null,
   "id": "1733da74-b639-499b-bccc-eab9c739d8f9",
   "metadata": {},
   "outputs": [],
   "source": [
    "# https://gtfs.org/documentation/schedule/reference/#tripstxt\n",
    "\n",
    "df_trips = pd.read_csv(f'{BASE_PATH}/trips.txt', header=0)\n",
    "df_trips.head()"
   ]
  },
  {
   "cell_type": "code",
   "execution_count": null,
   "id": "ea462304-57dc-4929-bada-42e191a92881",
   "metadata": {},
   "outputs": [],
   "source": [
    "trips (route_id -> Shape_id)\n",
    "df_routes (-)\n",
    "stops (-)\n"
   ]
  },
  {
   "cell_type": "code",
   "execution_count": null,
   "id": "375d4434-5b85-4ddb-8f7c-b8e0cafba429",
   "metadata": {},
   "outputs": [],
   "source": [
    "df_stops"
   ]
  },
  {
   "cell_type": "code",
   "execution_count": null,
   "id": "e90f145c-9c75-44b7-90d1-b9c491eaf00c",
   "metadata": {},
   "outputs": [],
   "source": [
    "df_shapes\n"
   ]
  },
  {
   "cell_type": "code",
   "execution_count": null,
   "id": "2f4469e4-f3b6-4720-81eb-696ce5ee85d8",
   "metadata": {},
   "outputs": [],
   "source": []
  },
  {
   "cell_type": "code",
   "execution_count": null,
   "id": "a24b4565-c1d9-4654-b637-5913bbb4c5e5",
   "metadata": {},
   "outputs": [],
   "source": [
    "def get_shape_from_id(shape_id):\n",
    "    return df_shapes[df_shapes['shape_id'] == shape_id][['shape_pt_lat', 'shape_pt_lon', 'shape_pt_sequence']].values\n",
    "\n",
    "get_shape_from_id(62557)"
   ]
  },
  {
   "cell_type": "code",
   "execution_count": null,
   "id": "394d38d7-e356-42e7-8aba-dfa7002e75e5",
   "metadata": {
    "scrolled": true
   },
   "outputs": [],
   "source": [
    "def get_trips_stop_seq(trip_id):\n",
    "    trip_seq = df_stop_times[df_stop_times['trip_id'] == trip_id][['stop_id','stop_sequence']].values\n",
    "    result = [ (i,tuple(df_stops[df_stops['stop_id'] == s].values[0])) for s,i in trip_seq ]\n",
    "    return result\n",
    "get_trips_stop_seq('1012-10-0')"
   ]
  },
  {
   "cell_type": "code",
   "execution_count": null,
   "id": "c6e5c429-db0d-4603-8fa4-3c653179a791",
   "metadata": {},
   "outputs": [],
   "source": [
    "trip_seq = get_trips_stop_seq('1012-10-0')\n",
    "trip_seq"
   ]
  },
  {
   "cell_type": "code",
   "execution_count": null,
   "id": "7d03b50b-993e-4eb8-a600-3e205ae0c85a",
   "metadata": {},
   "outputs": [],
   "source": [
    "df_trips[df_trips['route_id'] == '1012-10']"
   ]
  },
  {
   "cell_type": "code",
   "execution_count": null,
   "id": "9c631064-e977-460b-9eab-34a4e634d8cd",
   "metadata": {},
   "outputs": [],
   "source": [
    "df_routes[df_routes['route_id'] == '1012-10']"
   ]
  },
  {
   "cell_type": "code",
   "execution_count": null,
   "id": "67188350-c79f-4cab-8b16-ea531aa3f9fb",
   "metadata": {},
   "outputs": [],
   "source": [
    "route_id = '1012-10'\n",
    "\n",
    "route_data = df_routes[df_routes['route_id'] == route_id]\n",
    "print(f'Rota ID = {route_id}')\n",
    "display(route_data)\n",
    "trips = df_trips[df_trips['route_id'] == route_id]\n",
    "print('Contem as trips:')\n",
    "display(trips)"
   ]
  },
  {
   "cell_type": "code",
   "execution_count": null,
   "id": "3e69a79d-5d35-4733-8372-07adce3c93c4",
   "metadata": {
    "scrolled": true
   },
   "outputs": [],
   "source": [
    "trip_seq = get_trips_stop_seq('1012-10-0')\n",
    "trip_seq"
   ]
  },
  {
   "cell_type": "code",
   "execution_count": null,
   "id": "f953e2dd-122c-4889-ad73-2437b040c12a",
   "metadata": {
    "scrolled": true
   },
   "outputs": [],
   "source": [
    "# get_shape_from_id(81073)\n"
   ]
  },
  {
   "cell_type": "code",
   "execution_count": null,
   "id": "61a7746c-05e4-470f-95ab-2e208c573161",
   "metadata": {},
   "outputs": [],
   "source": []
  },
  {
   "cell_type": "code",
   "execution_count": null,
   "id": "b107e639-6950-49c8-a0e5-0a7a01682990",
   "metadata": {},
   "outputs": [],
   "source": [
    "list_pos_exemplo = get_shape_from_id(81072)\n",
    "lat_exemplo = -23.4285\n",
    "long_exemplo = -46.795379"
   ]
  },
  {
   "cell_type": "code",
   "execution_count": null,
   "id": "3c08cd49-056c-484f-8cb9-53038bf1b1f9",
   "metadata": {},
   "outputs": [],
   "source": [
    "%%timeit\n",
    "def find_closest(list_pos, s_lat, s_long):\n",
    "    # print(s_lat, s_long)\n",
    "    best_pos_index = None\n",
    "    best_dist = 999999\n",
    "    for lat, long, shape_pt_sequence in list_pos:\n",
    "        # print(lat, long, shape_pt_sequence)\n",
    "        dist = geopy.distance.geodesic((s_lat, s_long), (lat, long)).meters\n",
    "        if dist < best_dist:\n",
    "            best_dist = dist\n",
    "            best_pos_index = shape_pt_sequence\n",
    "    return best_pos_index, best_dist\n",
    "\n",
    "    \n",
    "\n",
    "find_closest(list_pos_exemplo, lat_exemplo, long_exemplo)\n"
   ]
  },
  {
   "cell_type": "code",
   "execution_count": null,
   "id": "02b8fc32-52c1-464c-8f1e-126ff2aecad8",
   "metadata": {},
   "outputs": [],
   "source": [
    "list_pos_exemplo[83]"
   ]
  },
  {
   "cell_type": "code",
   "execution_count": null,
   "id": "068ae51c-cb47-4d1d-a541-862893c72bb3",
   "metadata": {},
   "outputs": [],
   "source": [
    "%time\n",
    "def conciliar_trip_stop(trip_id, shape_id):\n",
    "    trip_seq = get_trips_stop_seq(trip_id)\n",
    "    shape = get_shape_from_id(shape_id)\n",
    "    index = {}\n",
    "    for i, stop in trip_seq:\n",
    "        closest = find_closest(shape, stop[3], stop[4])\n",
    "        # print(closest) # shape_pt_sequence, distance\n",
    "        index[closest[0]] = (stop[0], closest[1])\n",
    "\n",
    "    shape_for_trip = df_shapes[df_shapes['shape_id'] == shape_id].copy() \n",
    "    shape_for_trip['stop_id'] = [index.get(x, (None, None))[0] for x in shape_for_trip['shape_pt_sequence'].values]\n",
    "    shape_for_trip['stop_distance'] = [index.get(x, (None, None))[1] for x in shape_for_trip['shape_pt_sequence'].values]\n",
    "    return shape_for_trip\n",
    "                     \n",
    "conciliar_trip_stop('1012-10-0', 81072).head(50)"
   ]
  },
  {
   "cell_type": "code",
   "execution_count": null,
   "id": "afa56483-a7c6-42e2-9e3c-3bdce9b2a298",
   "metadata": {},
   "outputs": [],
   "source": [
    "d = df_stops[df_stops['stop_id'] == 301790]\n",
    "lat = d.values[0][3]\n",
    "long = d.values[0][4]\n",
    "print(lat, long)\n",
    "display(d)\n",
    "geopy.distance.geodesic((-23.431827, -46.787153), (lat, long)).meters"
   ]
  },
  {
   "cell_type": "code",
   "execution_count": null,
   "id": "7f43aa34-8fdc-4fe1-8f88-3aaca494c3fe",
   "metadata": {},
   "outputs": [],
   "source": []
  },
  {
   "cell_type": "markdown",
   "id": "695e33c1-755b-4fff-9d32-57cd3e43e64f",
   "metadata": {},
   "source": [
    "## Ideias:\n",
    "\n",
    "* Tempo de atraso nos pontos (stops)\n",
    "* Velocidade media\n",
    "* Deteccao de eventos/emergencias\n",
    "\n",
    "\n",
    "## Tasks: \n",
    "\n",
    "- Subir MiniIO\n",
    "- manter um sistema gravando no MiniOI dados de posicao\n",
    "- sistema para processar os dados - Pyspark\n",
    "\n",
    "# docker composer\n",
    "- MiniIO\n",
    "- PySpark\n",
    "- Trino\n",
    "- Metabase / SuperSet\n",
    "- \n",
    "\n",
    "\n",
    "## Questoes\n",
    "- Todas as posicoes? Ou só algumas linhas?\n",
    "- frequencia de atualizacao (1 minuto)\n",
    "\n",
    "\n",
    "previsão da linha\n",
    "-> \n",
    "\n",
    "\n",
    "acertividade da previsão\n",
    "-> differenca entre o previsto e o realizado\n",
    "\n",
    "\n",
    "\n",
    "-> pega a posicao dos onibus usando a API (horario de referencia, prefixo veiculo, linha, etc)\n",
    "\n",
    "\n",
    "-> shapes -> unir shapes com stops (percuso + paradas)\n"
   ]
  },
  {
   "cell_type": "code",
   "execution_count": null,
   "id": "d104440f-e7fb-4e15-acd2-3959227a144e",
   "metadata": {},
   "outputs": [],
   "source": []
  }
 ],
 "metadata": {
  "kernelspec": {
   "display_name": "Python 3 (ipykernel)",
   "language": "python",
   "name": "python3"
  },
  "language_info": {
   "codemirror_mode": {
    "name": "ipython",
    "version": 3
   },
   "file_extension": ".py",
   "mimetype": "text/x-python",
   "name": "python",
   "nbconvert_exporter": "python",
   "pygments_lexer": "ipython3",
   "version": "3.12.8"
  }
 },
 "nbformat": 4,
 "nbformat_minor": 5
}
