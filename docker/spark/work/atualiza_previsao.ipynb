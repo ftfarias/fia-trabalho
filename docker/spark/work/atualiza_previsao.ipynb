{
 "cells": [
  {
   "cell_type": "markdown",
   "id": "d0e51b43-48fc-4e47-82ee-d33c6f97c654",
   "metadata": {},
   "source": [
    "ação.\n",
    "API: https://www.sptrans.com.br/desenvolvedores\n",
    "ENDPOINTS:https://www.sptrans.com.br/desenvolvedores/api-do-olho-vivo-guia-de-r\n",
    "eferencia/documentacao-api/\n",
    "Utilizar o GTFS da SPTRANS para dados complementares (Dados\n",
    "Estáticos/Cadastrais).\n",
    "Enriquecer os dados de paradas com o endereço da localidade, através de latitude e\n",
    "longitude.\n",
    "Dados do GTFS: https://gtfs.org/documentation/schedule/reference/\n"
   ]
  },
  {
   "cell_type": "code",
   "execution_count": 60,
   "id": "48aa4af9-0e21-43ee-b76f-9f11c5b30630",
   "metadata": {},
   "outputs": [],
   "source": [
    "import requests\n",
    "import pandas as pd\n",
    "API_TOKEN = \"36b9de7cf0f0bcd8cdde826217615c1b5d2e7b71c80397ec50d1ec7620b4f872\"\n",
    "BASE_URL = \"http://api.olhovivo.sptrans.com.br/v2.1\"\n",
    "BASE_PATH = '.'\n"
   ]
  },
  {
   "cell_type": "code",
   "execution_count": 61,
   "id": "f7228e86-910c-4f64-afec-a06e5f935642",
   "metadata": {},
   "outputs": [
    {
     "name": "stdout",
     "output_type": "stream",
     "text": [
      "true\n"
     ]
    }
   ],
   "source": [
    "session = requests.Session()\n",
    "def authenticate(api_token):\n",
    "     # Define the authentication endpoint\n",
    "    auth_endpoint = f\"{BASE_URL}/Login/Autenticar?token={api_token}\"\n",
    "    \n",
    "    try:\n",
    "        # Make a POST request to authenticate\n",
    "        response = session.post(auth_endpoint)\n",
    "        \n",
    "        # Check if the authentication was successful\n",
    "        if response.status_code == 200:\n",
    "            return response\n",
    "        else:\n",
    "            print(f\"Erro, status: {response.status_code}\")\n",
    "            return response\n",
    "    except requests.exceptions.RequestException as e:\n",
    "        print(f\"Erro: {e}\")\n",
    "        return False\n",
    "\n",
    "\n",
    "result = authenticate(API_TOKEN)\n",
    "print(result.text)"
   ]
  },
  {
   "cell_type": "code",
   "execution_count": 62,
   "id": "7bf0b5e3-f577-48f8-8fc5-8cd5ee7e8ed0",
   "metadata": {},
   "outputs": [
    {
     "name": "stdout",
     "output_type": "stream",
     "text": [
      "[{\"cl\":2506,\"lc\":false,\"lt\":\"8000\",\"sl\":1,\"tl\":1,\"tp\":\"PÇA. RAMOS DE AZEVEDO\",\"ts\":\"TERM. LAPA\"},{\"cl\":35274,\"lc\":false,\"lt\":\"8000\",\"sl\":2,\"tl\":1,\"tp\":\"PÇA. RAMOS DE AZEVEDO\",\"ts\":\"TERM. LAPA\"},{\"cl\":1273,\"lc\":false,\"lt\":\"8000\",\"sl\":1,\"tl\":10,\"tp\":\"PÇA. RAMOS DE AZEVEDO\",\"ts\":\"TERM. LAPA\"},{\"cl\":34041,\"lc\":false,\"lt\":\"8000\",\"sl\":2,\"tl\":10,\"tp\":\"PÇA. RAMOS DE AZEVEDO\",\"ts\":\"TERM. LAPA\"}]\n"
     ]
    }
   ],
   "source": [
    "def buscar_linha_sentido(session, termosBusca):\n",
    "     # Define the authentication endpoint\n",
    "    endpoint = f\"{BASE_URL}/Linha/Buscar?termosBusca={termosBusca}\"\n",
    "    \n",
    "    try:\n",
    "        # Make a POST request to authenticate\n",
    "        response = session.get(endpoint)\n",
    "        \n",
    "        # Check if the authentication was successful\n",
    "        if response.status_code == 200:\n",
    "            return response\n",
    "        else:\n",
    "            print(f\"Erro, status: {response.status_code}\")\n",
    "            return response\n",
    "    except requests.exceptions.RequestException as e:\n",
    "        print(f\"Erro: {e}\")\n",
    "        return False\n",
    "\n",
    "\n",
    "result = buscar_linha_sentido(session, '8000')\n",
    "print(result.text)\n",
    "\n"
   ]
  },
  {
   "cell_type": "code",
   "execution_count": 63,
   "id": "a09d47fc-2e8a-4007-8660-d78e0cf5f966",
   "metadata": {},
   "outputs": [],
   "source": [
    "import json\n",
    "\n",
    "def generic_get(session, endpoint):\n",
    "     # Define the authentication endpoint\n",
    "    endpoint = BASE_URL + endpoint    \n",
    "    # print(endpoint)\n",
    "    try:\n",
    "        # Make a POST request to authenticate\n",
    "        response = session.get(endpoint)\n",
    "        \n",
    "        # Check if the authentication was successful\n",
    "        if response.status_code == 200:\n",
    "            return response\n",
    "        else:\n",
    "            print(f\"Erro, status: {response.status_code}\")\n",
    "            return response\n",
    "    except requests.exceptions.RequestException as e:\n",
    "        print(f\"Erro: {e}\")\n",
    "        return False\n",
    "\n",
    "def kmz(session):\n",
    "    return generic_get(session, '/KMZ')\n",
    "\n",
    "def parada_buscar(session, termos_busca):\n",
    "    return generic_get(session, f\"/Parada/Buscar?termosBusca='{termos_busca}'\")\n",
    "\n",
    "def linha_buscar(session, termos_busca):\n",
    "    return generic_get(session, f\"/Linha/Buscar?termosBusca='{termos_busca}'\")\n",
    "\n",
    "def parada_buscar_por_linha(session, codigo_linha):\n",
    "    return generic_get(session, f\"/Parada/BuscarParadasPorLinha?codigoLinha={codigo_linha}\")\n",
    "\n",
    "def previsao_parada(session, codigo_parada):\n",
    "    return generic_get(session, f'/Previsao/Parada?codigoParada={codigo_parada}')\n",
    "\n",
    "def previsao_linhas(session, codigo_linha):\n",
    "    return generic_get(session, f'/Previsao/Linha?codigoLinha={codigo_linha}')\n",
    "\n",
    "def previsao_parada_all(session):\n",
    "    return generic_get(session, f'/Previsao')\n",
    "    \n",
    "def posicao(session):\n",
    "    return generic_get(session, f'/Posicao')\n",
    "\n",
    "def posicao_por_linha(session, codigo_linha):\n",
    "    return generic_get(session, f\"/Posicao/Linha?codigoLinha={codigo_linha}\")\n",
    "\n",
    "# paradas = parada_buscar(session, 'rebouças');\n",
    "# print(json.dumps(result.json(), indent=4))\n",
    "\n",
    "# paradas = parada_buscar(session, 'rebouças');\n",
    "# print(json.dumps(result.json(), indent=4))\n",
    "\n",
    "# result = parada_buscar_por_linha(session, '1171')\n",
    "# print(json.dumps(result.json(), indent=4))\n",
    "\n",
    "# result = previsao_parada(session, '630015011')\n",
    "# print(json.dumps(result.json(), indent=2))\n",
    "\n",
    "# result = posicao(session)\n",
    "# print(json.dumps(result.json(), indent=2))\n",
    "\n",
    "# result = posicao_por_linha(session, 1171)\n",
    "# print(json.dumps(result.json(), indent=2))\n",
    "\n",
    "# result = previsao_parada_all(session)\n",
    "# print(json.dumps(result.json(), indent=2))\n",
    "\n",
    "result = previsao_linhas(session, '1171')\n",
    "# print(json.dumps(result.json(), indent=2))\n",
    "\n",
    "\n",
    "# paradas = linha_buscar(session, 'USP');\n",
    "# print(json.dumps(result.json(), indent=4))\n"
   ]
  },
  {
   "cell_type": "code",
   "execution_count": null,
   "id": "dc76066f-3218-43a8-83be-561883ec2cb8",
   "metadata": {},
   "outputs": [],
   "source": []
  },
  {
   "cell_type": "code",
   "execution_count": 48,
   "id": "e46dd71b-dc47-45d2-a365-cfa2707e8ee8",
   "metadata": {},
   "outputs": [
    {
     "data": {
      "text/plain": [
       "(2241, 6)"
      ]
     },
     "execution_count": 48,
     "metadata": {},
     "output_type": "execute_result"
    }
   ],
   "source": []
  },
  {
   "cell_type": "code",
   "execution_count": 65,
   "id": "0ea4ac93-f661-443d-85a3-5e6bfce331e3",
   "metadata": {},
   "outputs": [
    {
     "name": "stdout",
     "output_type": "stream",
     "text": [
      "(2241, 6)\n",
      "674\n"
     ]
    },
    {
     "data": {
      "text/plain": [
       "['CORINTHIANS  ITAQUERA',\n",
       " 'Term. Vl. Sônia',\n",
       " 'Hab. Turística',\n",
       " 'Jd. Orion',\n",
       " 'Metrô  Trianon  Masp ',\n",
       " 'Jd. Selma',\n",
       " 'Jd. Da Saúde',\n",
       " 'Jd. João Xxiii',\n",
       " 'Metalúrgicos',\n",
       " 'Pça. Da Sé']"
      ]
     },
     "execution_count": 65,
     "metadata": {},
     "output_type": "execute_result"
    }
   ],
   "source": [
    "df_trips = pd.read_csv(f'{BASE_PATH}/trips.txt', header=0)\n",
    "df_trips.head()\n",
    "print(df_trips.shape)\n",
    "trips = df_trips[['trip_headsign']].values\n",
    "trips = set([x[0].replace('-','') for x in trips])\n",
    "print(len(trips))\n",
    "list(trips)[:10]"
   ]
  },
  {
   "cell_type": "code",
   "execution_count": 66,
   "id": "85e1f86b-1332-4b45-b427-f1299068a873",
   "metadata": {},
   "outputs": [],
   "source": [
    "# import time\n",
    "# import json\n",
    "\n",
    "# with open('linha-codigo.json', 'a', encoding='utf-8', errors='replace') as output_file:\n",
    "#     for i, trip in enumerate(trips): \n",
    "#         print(i)\n",
    "#         try:\n",
    "#             result = linha_buscar(session, trip)\n",
    "#             if result.status_code != 200:\n",
    "#                 print(f'Trip {trip} devolveu {result.status_code}: {result.text}')\n",
    "#                 continue\n",
    "#             result = result.json()\n",
    "#             output_file.write(json.dumps(result))\n",
    "#             output_file.write('\\n')\n",
    "\n",
    "#         except Exception as e:\n",
    "#             print(e)\n",
    "\n",
    "#     output_file.flush()\n",
    "    "
   ]
  },
  {
   "cell_type": "code",
   "execution_count": 67,
   "id": "8fffe0dd-04ea-450c-8db4-c0b40f114e30",
   "metadata": {},
   "outputs": [
    {
     "name": "stdout",
     "output_type": "stream",
     "text": [
      "[]\n",
      "[{\"cl\": 775, \"lc\": false, \"lt\": \"7013\", \"sl\": 1, \"tl\": 10, \"tp\": \"TERM. VL. S\\u00d4NIA\", \"ts\": \"PQ. ARARIBA\"}, {\"cl\": 33543, \"lc\": false, \"lt\": \"7013\", \"sl\": 2, \"tl\": 10, \"tp\": \"TERM. VL. S\\u00d4NIA\", \"ts\": \"PQ. ARARIBA\"}, {\"cl\": 496, \"lc\": false, \"lt\": \"7458\", \"sl\": 1, \"tl\": 10, \"tp\": \"TERM. VL. S\\u00d4NIA\", \"ts\": \"JD. BOA VISTA\"}, {\"cl\": 33264, \"lc\": false, \"lt\": \"7458\", \"sl\": 2, \"tl\": 10, \"tp\": \"TERM. VL. S\\u00d4NIA\", \"ts\": \"JD. BOA VISTA\"}, {\"cl\": 2574, \"lc\": false, \"lt\": \"8019\", \"sl\": 1, \"tl\": 31, \"tp\": \"TERM. VL. S\\u00d4NIA\", \"ts\": \"PQ. CONTINENTAL\"}, {\"cl\": 35342, \"lc\": false, \"lt\": \"8019\", \"sl\": 2, \"tl\": 31, \"tp\": \"TERM. VL. S\\u00d4NIA\", \"ts\": \"PQ. CONTINENTAL\"}, {\"cl\": 2074, \"lc\": false, \"lt\": \"8023\", \"sl\": 1, \"tl\": 10, \"tp\": \"TERM. VL. S\\u00d4NIA\", \"ts\": \"CDHU MUNCK\"}, {\"cl\": 34842, \"lc\": false, \"lt\": \"8023\", \"sl\": 2, \"tl\": 10, \"tp\": \"TERM. VL. S\\u00d4NIA\", \"ts\": \"CDHU MUNCK\"}, {\"cl\": 2076, \"lc\": false, \"lt\": \"8025\", \"sl\": 1, \"tl\": 10, \"tp\": \"TERM. VL. S\\u00d4NIA\", \"ts\": \"JD. ROSA MARIA\"}, {\"cl\": 34844, \"lc\": false, \"lt\": \"8025\", \"sl\": 2, \"tl\": 10, \"tp\": \"TERM. VL. S\\u00d4NIA\", \"ts\": \"JD. ROSA MARIA\"}, {\"cl\": 2083, \"lc\": false, \"lt\": \"8026\", \"sl\": 1, \"tl\": 10, \"tp\": \"TERM. VL. S\\u00d4NIA\", \"ts\": \"JD. ING\\u00c1\"}, {\"cl\": 34851, \"lc\": false, \"lt\": \"8026\", \"sl\": 2, \"tl\": 10, \"tp\": \"TERM. VL. S\\u00d4NIA\", \"ts\": \"JD. ING\\u00c1\"}, {\"cl\": 2562, \"lc\": false, \"lt\": \"8030\", \"sl\": 1, \"tl\": 10, \"tp\": \"TERM. VL. S\\u00d4NIA\", \"ts\": \"PARAIS\\u00d3POLIS\"}, {\"cl\": 35330, \"lc\": false, \"lt\": \"8030\", \"sl\": 2, \"tl\": 10, \"tp\": \"TERM. VL. S\\u00d4NIA\", \"ts\": \"PARAIS\\u00d3POLIS\"}, {\"cl\": 2081, \"lc\": false, \"lt\": \"8073\", \"sl\": 1, \"tl\": 10, \"tp\": \"TERM. VL. S\\u00d4NIA\", \"ts\": \"JD. GUARA\\u00da\"}, {\"cl\": 34849, \"lc\": false, \"lt\": \"8073\", \"sl\": 2, \"tl\": 10, \"tp\": \"TERM. VL. S\\u00d4NIA\", \"ts\": \"JD. GUARA\\u00da\"}, {\"cl\": 2537, \"lc\": false, \"lt\": \"8075\", \"sl\": 1, \"tl\": 21, \"tp\": \"TERM. VL. S\\u00d4NIA\", \"ts\": \"TERM. CAMPO LIMPO\"}, {\"cl\": 35305, \"lc\": false, \"lt\": \"8075\", \"sl\": 2, \"tl\": 21, \"tp\": \"TERM. VL. S\\u00d4NIA\", \"ts\": \"TERM. CAMPO LIMPO\"}, {\"cl\": 2050, \"lc\": false, \"lt\": \"8077\", \"sl\": 1, \"tl\": 10, \"tp\": \"TERM. VL. S\\u00d4NIA\", \"ts\": \"JD. JO\\u00c3O XXIII\"}, {\"cl\": 34818, \"lc\": false, \"lt\": \"8077\", \"sl\": 2, \"tl\": 10, \"tp\": \"TERM. VL. S\\u00d4NIA\", \"ts\": \"JD. JO\\u00c3O XXIII\"}]\n"
     ]
    }
   ],
   "source": [
    "!head -n 2 linha-codigo.json"
   ]
  },
  {
   "cell_type": "code",
   "execution_count": 68,
   "id": "cba7d413-e514-4c1c-a533-aa7a941d1a1d",
   "metadata": {},
   "outputs": [],
   "source": [
    "total = 0\n",
    "cl = {}\n",
    "\n",
    "with open('linha-codigo.json', 'r', encoding='utf-8', errors='replace') as input_file:\n",
    "    for row in input_file:\n",
    "        linhas = json.loads(row)\n",
    "        total += len(linhas)\n",
    "        for l in linhas:\n",
    "            cl[l.get('cl')] = l \n",
    "            \n",
    "\n"
   ]
  },
  {
   "cell_type": "code",
   "execution_count": null,
   "id": "c122cb26-2538-4936-8bb8-802b93050cb7",
   "metadata": {},
   "outputs": [],
   "source": []
  },
  {
   "cell_type": "code",
   "execution_count": 69,
   "id": "d56ac6c0-ec3a-4471-88f5-e72c50a00da7",
   "metadata": {},
   "outputs": [
    {
     "name": "stderr",
     "output_type": "stream",
     "text": [
      "100%|██████████| 2658/2658 [00:00<00:00, 142943.64it/s]\n"
     ]
    }
   ],
   "source": [
    "from tqdm import tqdm\n",
    "trips = []\n",
    "\n",
    "with open('linhas_from_api.json', 'w', encoding='utf-8', errors='replace') as output_file:\n",
    "    for k,v in tqdm(cl.items()):\n",
    "        trips.append(k)\n",
    "        output_file.write(json.dumps(v))\n",
    "        output_file.write('\\n')\n",
    "\n"
   ]
  },
  {
   "cell_type": "code",
   "execution_count": 70,
   "id": "ae44fafd-1761-427d-8d50-ff5d2e054380",
   "metadata": {},
   "outputs": [],
   "source": [
    "\n",
    "# previsao_linhas(session, '198').json()"
   ]
  },
  {
   "cell_type": "code",
   "execution_count": 71,
   "id": "70fac2fe-df60-4694-adb4-1fe86d58a503",
   "metadata": {},
   "outputs": [
    {
     "data": {
      "text/plain": [
       "2658"
      ]
     },
     "execution_count": 71,
     "metadata": {},
     "output_type": "execute_result"
    }
   ],
   "source": [
    "len(trips)"
   ]
  },
  {
   "cell_type": "code",
   "execution_count": 74,
   "id": "d104440f-e7fb-4e15-acd2-3959227a144e",
   "metadata": {},
   "outputs": [
    {
     "name": "stderr",
     "output_type": "stream",
     "text": [
      "100%|██████████| 2658/2658 [03:00<00:00, 14.70it/s]\n"
     ]
    },
    {
     "name": "stdout",
     "output_type": "stream",
     "text": [
      "sleep: 2,658 linhas\n"
     ]
    },
    {
     "name": "stderr",
     "output_type": "stream",
     "text": [
      "  3%|▎         | 80/2658 [00:04<02:13, 19.31it/s]\n"
     ]
    },
    {
     "ename": "KeyboardInterrupt",
     "evalue": "",
     "output_type": "error",
     "traceback": [
      "\u001b[0;31m---------------------------------------------------------------------------\u001b[0m",
      "\u001b[0;31mKeyboardInterrupt\u001b[0m                         Traceback (most recent call last)",
      "Cell \u001b[0;32mIn[74], line 11\u001b[0m\n\u001b[1;32m      9\u001b[0m \u001b[38;5;28;01mfor\u001b[39;00m trip \u001b[38;5;129;01min\u001b[39;00m tqdm(trips): \n\u001b[1;32m     10\u001b[0m     \u001b[38;5;28;01mtry\u001b[39;00m:\n\u001b[0;32m---> 11\u001b[0m         result \u001b[38;5;241m=\u001b[39m \u001b[43mprevisao_linhas\u001b[49m\u001b[43m(\u001b[49m\u001b[43msession\u001b[49m\u001b[43m,\u001b[49m\u001b[43m \u001b[49m\u001b[43mtrip\u001b[49m\u001b[43m)\u001b[49m\n\u001b[1;32m     12\u001b[0m         \u001b[38;5;28;01mif\u001b[39;00m result\u001b[38;5;241m.\u001b[39mstatus_code \u001b[38;5;241m!=\u001b[39m \u001b[38;5;241m200\u001b[39m:\n\u001b[1;32m     13\u001b[0m             \u001b[38;5;28mprint\u001b[39m(\u001b[38;5;124mf\u001b[39m\u001b[38;5;124m'\u001b[39m\u001b[38;5;124mTrip \u001b[39m\u001b[38;5;132;01m{\u001b[39;00mtrip\u001b[38;5;132;01m}\u001b[39;00m\u001b[38;5;124m devolveu \u001b[39m\u001b[38;5;132;01m{\u001b[39;00mresult\u001b[38;5;241m.\u001b[39mstatus_code\u001b[38;5;132;01m}\u001b[39;00m\u001b[38;5;124m: \u001b[39m\u001b[38;5;132;01m{\u001b[39;00mresult\u001b[38;5;241m.\u001b[39mtext\u001b[38;5;132;01m}\u001b[39;00m\u001b[38;5;124m'\u001b[39m)\n",
      "Cell \u001b[0;32mIn[63], line 37\u001b[0m, in \u001b[0;36mprevisao_linhas\u001b[0;34m(session, codigo_linha)\u001b[0m\n\u001b[1;32m     36\u001b[0m \u001b[38;5;28;01mdef\u001b[39;00m \u001b[38;5;21mprevisao_linhas\u001b[39m(session, codigo_linha):\n\u001b[0;32m---> 37\u001b[0m     \u001b[38;5;28;01mreturn\u001b[39;00m \u001b[43mgeneric_get\u001b[49m\u001b[43m(\u001b[49m\u001b[43msession\u001b[49m\u001b[43m,\u001b[49m\u001b[43m \u001b[49m\u001b[38;5;124;43mf\u001b[39;49m\u001b[38;5;124;43m'\u001b[39;49m\u001b[38;5;124;43m/Previsao/Linha?codigoLinha=\u001b[39;49m\u001b[38;5;132;43;01m{\u001b[39;49;00m\u001b[43mcodigo_linha\u001b[49m\u001b[38;5;132;43;01m}\u001b[39;49;00m\u001b[38;5;124;43m'\u001b[39;49m\u001b[43m)\u001b[49m\n",
      "Cell \u001b[0;32mIn[63], line 9\u001b[0m, in \u001b[0;36mgeneric_get\u001b[0;34m(session, endpoint)\u001b[0m\n\u001b[1;32m      6\u001b[0m \u001b[38;5;66;03m# print(endpoint)\u001b[39;00m\n\u001b[1;32m      7\u001b[0m \u001b[38;5;28;01mtry\u001b[39;00m:\n\u001b[1;32m      8\u001b[0m     \u001b[38;5;66;03m# Make a POST request to authenticate\u001b[39;00m\n\u001b[0;32m----> 9\u001b[0m     response \u001b[38;5;241m=\u001b[39m \u001b[43msession\u001b[49m\u001b[38;5;241;43m.\u001b[39;49m\u001b[43mget\u001b[49m\u001b[43m(\u001b[49m\u001b[43mendpoint\u001b[49m\u001b[43m)\u001b[49m\n\u001b[1;32m     11\u001b[0m     \u001b[38;5;66;03m# Check if the authentication was successful\u001b[39;00m\n\u001b[1;32m     12\u001b[0m     \u001b[38;5;28;01mif\u001b[39;00m response\u001b[38;5;241m.\u001b[39mstatus_code \u001b[38;5;241m==\u001b[39m \u001b[38;5;241m200\u001b[39m:\n",
      "File \u001b[0;32m/opt/conda/lib/python3.10/site-packages/requests/sessions.py:600\u001b[0m, in \u001b[0;36mSession.get\u001b[0;34m(self, url, **kwargs)\u001b[0m\n\u001b[1;32m    592\u001b[0m \u001b[38;5;250m\u001b[39m\u001b[38;5;124mr\u001b[39m\u001b[38;5;124;03m\"\"\"Sends a GET request. Returns :class:`Response` object.\u001b[39;00m\n\u001b[1;32m    593\u001b[0m \n\u001b[1;32m    594\u001b[0m \u001b[38;5;124;03m:param url: URL for the new :class:`Request` object.\u001b[39;00m\n\u001b[1;32m    595\u001b[0m \u001b[38;5;124;03m:param \\*\\*kwargs: Optional arguments that ``request`` takes.\u001b[39;00m\n\u001b[1;32m    596\u001b[0m \u001b[38;5;124;03m:rtype: requests.Response\u001b[39;00m\n\u001b[1;32m    597\u001b[0m \u001b[38;5;124;03m\"\"\"\u001b[39;00m\n\u001b[1;32m    599\u001b[0m kwargs\u001b[38;5;241m.\u001b[39msetdefault(\u001b[38;5;124m\"\u001b[39m\u001b[38;5;124mallow_redirects\u001b[39m\u001b[38;5;124m\"\u001b[39m, \u001b[38;5;28;01mTrue\u001b[39;00m)\n\u001b[0;32m--> 600\u001b[0m \u001b[38;5;28;01mreturn\u001b[39;00m \u001b[38;5;28;43mself\u001b[39;49m\u001b[38;5;241;43m.\u001b[39;49m\u001b[43mrequest\u001b[49m\u001b[43m(\u001b[49m\u001b[38;5;124;43m\"\u001b[39;49m\u001b[38;5;124;43mGET\u001b[39;49m\u001b[38;5;124;43m\"\u001b[39;49m\u001b[43m,\u001b[49m\u001b[43m \u001b[49m\u001b[43murl\u001b[49m\u001b[43m,\u001b[49m\u001b[43m \u001b[49m\u001b[38;5;241;43m*\u001b[39;49m\u001b[38;5;241;43m*\u001b[39;49m\u001b[43mkwargs\u001b[49m\u001b[43m)\u001b[49m\n",
      "File \u001b[0;32m/opt/conda/lib/python3.10/site-packages/requests/sessions.py:587\u001b[0m, in \u001b[0;36mSession.request\u001b[0;34m(self, method, url, params, data, headers, cookies, files, auth, timeout, allow_redirects, proxies, hooks, stream, verify, cert, json)\u001b[0m\n\u001b[1;32m    582\u001b[0m send_kwargs \u001b[38;5;241m=\u001b[39m {\n\u001b[1;32m    583\u001b[0m     \u001b[38;5;124m\"\u001b[39m\u001b[38;5;124mtimeout\u001b[39m\u001b[38;5;124m\"\u001b[39m: timeout,\n\u001b[1;32m    584\u001b[0m     \u001b[38;5;124m\"\u001b[39m\u001b[38;5;124mallow_redirects\u001b[39m\u001b[38;5;124m\"\u001b[39m: allow_redirects,\n\u001b[1;32m    585\u001b[0m }\n\u001b[1;32m    586\u001b[0m send_kwargs\u001b[38;5;241m.\u001b[39mupdate(settings)\n\u001b[0;32m--> 587\u001b[0m resp \u001b[38;5;241m=\u001b[39m \u001b[38;5;28;43mself\u001b[39;49m\u001b[38;5;241;43m.\u001b[39;49m\u001b[43msend\u001b[49m\u001b[43m(\u001b[49m\u001b[43mprep\u001b[49m\u001b[43m,\u001b[49m\u001b[43m \u001b[49m\u001b[38;5;241;43m*\u001b[39;49m\u001b[38;5;241;43m*\u001b[39;49m\u001b[43msend_kwargs\u001b[49m\u001b[43m)\u001b[49m\n\u001b[1;32m    589\u001b[0m \u001b[38;5;28;01mreturn\u001b[39;00m resp\n",
      "File \u001b[0;32m/opt/conda/lib/python3.10/site-packages/requests/sessions.py:701\u001b[0m, in \u001b[0;36mSession.send\u001b[0;34m(self, request, **kwargs)\u001b[0m\n\u001b[1;32m    698\u001b[0m start \u001b[38;5;241m=\u001b[39m preferred_clock()\n\u001b[1;32m    700\u001b[0m \u001b[38;5;66;03m# Send the request\u001b[39;00m\n\u001b[0;32m--> 701\u001b[0m r \u001b[38;5;241m=\u001b[39m \u001b[43madapter\u001b[49m\u001b[38;5;241;43m.\u001b[39;49m\u001b[43msend\u001b[49m\u001b[43m(\u001b[49m\u001b[43mrequest\u001b[49m\u001b[43m,\u001b[49m\u001b[43m \u001b[49m\u001b[38;5;241;43m*\u001b[39;49m\u001b[38;5;241;43m*\u001b[39;49m\u001b[43mkwargs\u001b[49m\u001b[43m)\u001b[49m\n\u001b[1;32m    703\u001b[0m \u001b[38;5;66;03m# Total elapsed time of the request (approximately)\u001b[39;00m\n\u001b[1;32m    704\u001b[0m elapsed \u001b[38;5;241m=\u001b[39m preferred_clock() \u001b[38;5;241m-\u001b[39m start\n",
      "File \u001b[0;32m/opt/conda/lib/python3.10/site-packages/requests/adapters.py:489\u001b[0m, in \u001b[0;36mHTTPAdapter.send\u001b[0;34m(self, request, stream, timeout, verify, cert, proxies)\u001b[0m\n\u001b[1;32m    487\u001b[0m \u001b[38;5;28;01mtry\u001b[39;00m:\n\u001b[1;32m    488\u001b[0m     \u001b[38;5;28;01mif\u001b[39;00m \u001b[38;5;129;01mnot\u001b[39;00m chunked:\n\u001b[0;32m--> 489\u001b[0m         resp \u001b[38;5;241m=\u001b[39m \u001b[43mconn\u001b[49m\u001b[38;5;241;43m.\u001b[39;49m\u001b[43murlopen\u001b[49m\u001b[43m(\u001b[49m\n\u001b[1;32m    490\u001b[0m \u001b[43m            \u001b[49m\u001b[43mmethod\u001b[49m\u001b[38;5;241;43m=\u001b[39;49m\u001b[43mrequest\u001b[49m\u001b[38;5;241;43m.\u001b[39;49m\u001b[43mmethod\u001b[49m\u001b[43m,\u001b[49m\n\u001b[1;32m    491\u001b[0m \u001b[43m            \u001b[49m\u001b[43murl\u001b[49m\u001b[38;5;241;43m=\u001b[39;49m\u001b[43murl\u001b[49m\u001b[43m,\u001b[49m\n\u001b[1;32m    492\u001b[0m \u001b[43m            \u001b[49m\u001b[43mbody\u001b[49m\u001b[38;5;241;43m=\u001b[39;49m\u001b[43mrequest\u001b[49m\u001b[38;5;241;43m.\u001b[39;49m\u001b[43mbody\u001b[49m\u001b[43m,\u001b[49m\n\u001b[1;32m    493\u001b[0m \u001b[43m            \u001b[49m\u001b[43mheaders\u001b[49m\u001b[38;5;241;43m=\u001b[39;49m\u001b[43mrequest\u001b[49m\u001b[38;5;241;43m.\u001b[39;49m\u001b[43mheaders\u001b[49m\u001b[43m,\u001b[49m\n\u001b[1;32m    494\u001b[0m \u001b[43m            \u001b[49m\u001b[43mredirect\u001b[49m\u001b[38;5;241;43m=\u001b[39;49m\u001b[38;5;28;43;01mFalse\u001b[39;49;00m\u001b[43m,\u001b[49m\n\u001b[1;32m    495\u001b[0m \u001b[43m            \u001b[49m\u001b[43massert_same_host\u001b[49m\u001b[38;5;241;43m=\u001b[39;49m\u001b[38;5;28;43;01mFalse\u001b[39;49;00m\u001b[43m,\u001b[49m\n\u001b[1;32m    496\u001b[0m \u001b[43m            \u001b[49m\u001b[43mpreload_content\u001b[49m\u001b[38;5;241;43m=\u001b[39;49m\u001b[38;5;28;43;01mFalse\u001b[39;49;00m\u001b[43m,\u001b[49m\n\u001b[1;32m    497\u001b[0m \u001b[43m            \u001b[49m\u001b[43mdecode_content\u001b[49m\u001b[38;5;241;43m=\u001b[39;49m\u001b[38;5;28;43;01mFalse\u001b[39;49;00m\u001b[43m,\u001b[49m\n\u001b[1;32m    498\u001b[0m \u001b[43m            \u001b[49m\u001b[43mretries\u001b[49m\u001b[38;5;241;43m=\u001b[39;49m\u001b[38;5;28;43mself\u001b[39;49m\u001b[38;5;241;43m.\u001b[39;49m\u001b[43mmax_retries\u001b[49m\u001b[43m,\u001b[49m\n\u001b[1;32m    499\u001b[0m \u001b[43m            \u001b[49m\u001b[43mtimeout\u001b[49m\u001b[38;5;241;43m=\u001b[39;49m\u001b[43mtimeout\u001b[49m\u001b[43m,\u001b[49m\n\u001b[1;32m    500\u001b[0m \u001b[43m        \u001b[49m\u001b[43m)\u001b[49m\n\u001b[1;32m    502\u001b[0m     \u001b[38;5;66;03m# Send the request.\u001b[39;00m\n\u001b[1;32m    503\u001b[0m     \u001b[38;5;28;01melse\u001b[39;00m:\n\u001b[1;32m    504\u001b[0m         \u001b[38;5;28;01mif\u001b[39;00m \u001b[38;5;28mhasattr\u001b[39m(conn, \u001b[38;5;124m\"\u001b[39m\u001b[38;5;124mproxy_pool\u001b[39m\u001b[38;5;124m\"\u001b[39m):\n",
      "File \u001b[0;32m/opt/conda/lib/python3.10/site-packages/urllib3/connectionpool.py:703\u001b[0m, in \u001b[0;36mHTTPConnectionPool.urlopen\u001b[0;34m(self, method, url, body, headers, retries, redirect, assert_same_host, timeout, pool_timeout, release_conn, chunked, body_pos, **response_kw)\u001b[0m\n\u001b[1;32m    700\u001b[0m     \u001b[38;5;28mself\u001b[39m\u001b[38;5;241m.\u001b[39m_prepare_proxy(conn)\n\u001b[1;32m    702\u001b[0m \u001b[38;5;66;03m# Make the request on the httplib connection object.\u001b[39;00m\n\u001b[0;32m--> 703\u001b[0m httplib_response \u001b[38;5;241m=\u001b[39m \u001b[38;5;28;43mself\u001b[39;49m\u001b[38;5;241;43m.\u001b[39;49m\u001b[43m_make_request\u001b[49m\u001b[43m(\u001b[49m\n\u001b[1;32m    704\u001b[0m \u001b[43m    \u001b[49m\u001b[43mconn\u001b[49m\u001b[43m,\u001b[49m\n\u001b[1;32m    705\u001b[0m \u001b[43m    \u001b[49m\u001b[43mmethod\u001b[49m\u001b[43m,\u001b[49m\n\u001b[1;32m    706\u001b[0m \u001b[43m    \u001b[49m\u001b[43murl\u001b[49m\u001b[43m,\u001b[49m\n\u001b[1;32m    707\u001b[0m \u001b[43m    \u001b[49m\u001b[43mtimeout\u001b[49m\u001b[38;5;241;43m=\u001b[39;49m\u001b[43mtimeout_obj\u001b[49m\u001b[43m,\u001b[49m\n\u001b[1;32m    708\u001b[0m \u001b[43m    \u001b[49m\u001b[43mbody\u001b[49m\u001b[38;5;241;43m=\u001b[39;49m\u001b[43mbody\u001b[49m\u001b[43m,\u001b[49m\n\u001b[1;32m    709\u001b[0m \u001b[43m    \u001b[49m\u001b[43mheaders\u001b[49m\u001b[38;5;241;43m=\u001b[39;49m\u001b[43mheaders\u001b[49m\u001b[43m,\u001b[49m\n\u001b[1;32m    710\u001b[0m \u001b[43m    \u001b[49m\u001b[43mchunked\u001b[49m\u001b[38;5;241;43m=\u001b[39;49m\u001b[43mchunked\u001b[49m\u001b[43m,\u001b[49m\n\u001b[1;32m    711\u001b[0m \u001b[43m\u001b[49m\u001b[43m)\u001b[49m\n\u001b[1;32m    713\u001b[0m \u001b[38;5;66;03m# If we're going to release the connection in ``finally:``, then\u001b[39;00m\n\u001b[1;32m    714\u001b[0m \u001b[38;5;66;03m# the response doesn't need to know about the connection. Otherwise\u001b[39;00m\n\u001b[1;32m    715\u001b[0m \u001b[38;5;66;03m# it will also try to release it and we'll have a double-release\u001b[39;00m\n\u001b[1;32m    716\u001b[0m \u001b[38;5;66;03m# mess.\u001b[39;00m\n\u001b[1;32m    717\u001b[0m response_conn \u001b[38;5;241m=\u001b[39m conn \u001b[38;5;28;01mif\u001b[39;00m \u001b[38;5;129;01mnot\u001b[39;00m release_conn \u001b[38;5;28;01melse\u001b[39;00m \u001b[38;5;28;01mNone\u001b[39;00m\n",
      "File \u001b[0;32m/opt/conda/lib/python3.10/site-packages/urllib3/connectionpool.py:449\u001b[0m, in \u001b[0;36mHTTPConnectionPool._make_request\u001b[0;34m(self, conn, method, url, timeout, chunked, **httplib_request_kw)\u001b[0m\n\u001b[1;32m    444\u001b[0m             httplib_response \u001b[38;5;241m=\u001b[39m conn\u001b[38;5;241m.\u001b[39mgetresponse()\n\u001b[1;32m    445\u001b[0m         \u001b[38;5;28;01mexcept\u001b[39;00m \u001b[38;5;167;01mBaseException\u001b[39;00m \u001b[38;5;28;01mas\u001b[39;00m e:\n\u001b[1;32m    446\u001b[0m             \u001b[38;5;66;03m# Remove the TypeError from the exception chain in\u001b[39;00m\n\u001b[1;32m    447\u001b[0m             \u001b[38;5;66;03m# Python 3 (including for exceptions like SystemExit).\u001b[39;00m\n\u001b[1;32m    448\u001b[0m             \u001b[38;5;66;03m# Otherwise it looks like a bug in the code.\u001b[39;00m\n\u001b[0;32m--> 449\u001b[0m             \u001b[43msix\u001b[49m\u001b[38;5;241;43m.\u001b[39;49m\u001b[43mraise_from\u001b[49m\u001b[43m(\u001b[49m\u001b[43me\u001b[49m\u001b[43m,\u001b[49m\u001b[43m \u001b[49m\u001b[38;5;28;43;01mNone\u001b[39;49;00m\u001b[43m)\u001b[49m\n\u001b[1;32m    450\u001b[0m \u001b[38;5;28;01mexcept\u001b[39;00m (SocketTimeout, BaseSSLError, SocketError) \u001b[38;5;28;01mas\u001b[39;00m e:\n\u001b[1;32m    451\u001b[0m     \u001b[38;5;28mself\u001b[39m\u001b[38;5;241m.\u001b[39m_raise_timeout(err\u001b[38;5;241m=\u001b[39me, url\u001b[38;5;241m=\u001b[39murl, timeout_value\u001b[38;5;241m=\u001b[39mread_timeout)\n",
      "File \u001b[0;32m<string>:3\u001b[0m, in \u001b[0;36mraise_from\u001b[0;34m(value, from_value)\u001b[0m\n",
      "File \u001b[0;32m/opt/conda/lib/python3.10/site-packages/urllib3/connectionpool.py:444\u001b[0m, in \u001b[0;36mHTTPConnectionPool._make_request\u001b[0;34m(self, conn, method, url, timeout, chunked, **httplib_request_kw)\u001b[0m\n\u001b[1;32m    441\u001b[0m \u001b[38;5;28;01mexcept\u001b[39;00m \u001b[38;5;167;01mTypeError\u001b[39;00m:\n\u001b[1;32m    442\u001b[0m     \u001b[38;5;66;03m# Python 3\u001b[39;00m\n\u001b[1;32m    443\u001b[0m     \u001b[38;5;28;01mtry\u001b[39;00m:\n\u001b[0;32m--> 444\u001b[0m         httplib_response \u001b[38;5;241m=\u001b[39m \u001b[43mconn\u001b[49m\u001b[38;5;241;43m.\u001b[39;49m\u001b[43mgetresponse\u001b[49m\u001b[43m(\u001b[49m\u001b[43m)\u001b[49m\n\u001b[1;32m    445\u001b[0m     \u001b[38;5;28;01mexcept\u001b[39;00m \u001b[38;5;167;01mBaseException\u001b[39;00m \u001b[38;5;28;01mas\u001b[39;00m e:\n\u001b[1;32m    446\u001b[0m         \u001b[38;5;66;03m# Remove the TypeError from the exception chain in\u001b[39;00m\n\u001b[1;32m    447\u001b[0m         \u001b[38;5;66;03m# Python 3 (including for exceptions like SystemExit).\u001b[39;00m\n\u001b[1;32m    448\u001b[0m         \u001b[38;5;66;03m# Otherwise it looks like a bug in the code.\u001b[39;00m\n\u001b[1;32m    449\u001b[0m         six\u001b[38;5;241m.\u001b[39mraise_from(e, \u001b[38;5;28;01mNone\u001b[39;00m)\n",
      "File \u001b[0;32m/opt/conda/lib/python3.10/http/client.py:1374\u001b[0m, in \u001b[0;36mHTTPConnection.getresponse\u001b[0;34m(self)\u001b[0m\n\u001b[1;32m   1372\u001b[0m \u001b[38;5;28;01mtry\u001b[39;00m:\n\u001b[1;32m   1373\u001b[0m     \u001b[38;5;28;01mtry\u001b[39;00m:\n\u001b[0;32m-> 1374\u001b[0m         \u001b[43mresponse\u001b[49m\u001b[38;5;241;43m.\u001b[39;49m\u001b[43mbegin\u001b[49m\u001b[43m(\u001b[49m\u001b[43m)\u001b[49m\n\u001b[1;32m   1375\u001b[0m     \u001b[38;5;28;01mexcept\u001b[39;00m \u001b[38;5;167;01mConnectionError\u001b[39;00m:\n\u001b[1;32m   1376\u001b[0m         \u001b[38;5;28mself\u001b[39m\u001b[38;5;241m.\u001b[39mclose()\n",
      "File \u001b[0;32m/opt/conda/lib/python3.10/http/client.py:318\u001b[0m, in \u001b[0;36mHTTPResponse.begin\u001b[0;34m(self)\u001b[0m\n\u001b[1;32m    316\u001b[0m \u001b[38;5;66;03m# read until we get a non-100 response\u001b[39;00m\n\u001b[1;32m    317\u001b[0m \u001b[38;5;28;01mwhile\u001b[39;00m \u001b[38;5;28;01mTrue\u001b[39;00m:\n\u001b[0;32m--> 318\u001b[0m     version, status, reason \u001b[38;5;241m=\u001b[39m \u001b[38;5;28;43mself\u001b[39;49m\u001b[38;5;241;43m.\u001b[39;49m\u001b[43m_read_status\u001b[49m\u001b[43m(\u001b[49m\u001b[43m)\u001b[49m\n\u001b[1;32m    319\u001b[0m     \u001b[38;5;28;01mif\u001b[39;00m status \u001b[38;5;241m!=\u001b[39m CONTINUE:\n\u001b[1;32m    320\u001b[0m         \u001b[38;5;28;01mbreak\u001b[39;00m\n",
      "File \u001b[0;32m/opt/conda/lib/python3.10/http/client.py:279\u001b[0m, in \u001b[0;36mHTTPResponse._read_status\u001b[0;34m(self)\u001b[0m\n\u001b[1;32m    278\u001b[0m \u001b[38;5;28;01mdef\u001b[39;00m \u001b[38;5;21m_read_status\u001b[39m(\u001b[38;5;28mself\u001b[39m):\n\u001b[0;32m--> 279\u001b[0m     line \u001b[38;5;241m=\u001b[39m \u001b[38;5;28mstr\u001b[39m(\u001b[38;5;28;43mself\u001b[39;49m\u001b[38;5;241;43m.\u001b[39;49m\u001b[43mfp\u001b[49m\u001b[38;5;241;43m.\u001b[39;49m\u001b[43mreadline\u001b[49m\u001b[43m(\u001b[49m\u001b[43m_MAXLINE\u001b[49m\u001b[43m \u001b[49m\u001b[38;5;241;43m+\u001b[39;49m\u001b[43m \u001b[49m\u001b[38;5;241;43m1\u001b[39;49m\u001b[43m)\u001b[49m, \u001b[38;5;124m\"\u001b[39m\u001b[38;5;124miso-8859-1\u001b[39m\u001b[38;5;124m\"\u001b[39m)\n\u001b[1;32m    280\u001b[0m     \u001b[38;5;28;01mif\u001b[39;00m \u001b[38;5;28mlen\u001b[39m(line) \u001b[38;5;241m>\u001b[39m _MAXLINE:\n\u001b[1;32m    281\u001b[0m         \u001b[38;5;28;01mraise\u001b[39;00m LineTooLong(\u001b[38;5;124m\"\u001b[39m\u001b[38;5;124mstatus line\u001b[39m\u001b[38;5;124m\"\u001b[39m)\n",
      "File \u001b[0;32m/opt/conda/lib/python3.10/socket.py:705\u001b[0m, in \u001b[0;36mSocketIO.readinto\u001b[0;34m(self, b)\u001b[0m\n\u001b[1;32m    703\u001b[0m \u001b[38;5;28;01mwhile\u001b[39;00m \u001b[38;5;28;01mTrue\u001b[39;00m:\n\u001b[1;32m    704\u001b[0m     \u001b[38;5;28;01mtry\u001b[39;00m:\n\u001b[0;32m--> 705\u001b[0m         \u001b[38;5;28;01mreturn\u001b[39;00m \u001b[38;5;28;43mself\u001b[39;49m\u001b[38;5;241;43m.\u001b[39;49m\u001b[43m_sock\u001b[49m\u001b[38;5;241;43m.\u001b[39;49m\u001b[43mrecv_into\u001b[49m\u001b[43m(\u001b[49m\u001b[43mb\u001b[49m\u001b[43m)\u001b[49m\n\u001b[1;32m    706\u001b[0m     \u001b[38;5;28;01mexcept\u001b[39;00m timeout:\n\u001b[1;32m    707\u001b[0m         \u001b[38;5;28mself\u001b[39m\u001b[38;5;241m.\u001b[39m_timeout_occurred \u001b[38;5;241m=\u001b[39m \u001b[38;5;28;01mTrue\u001b[39;00m\n",
      "\u001b[0;31mKeyboardInterrupt\u001b[0m: "
     ]
    }
   ],
   "source": [
    "import time\n",
    "import json\n",
    "from tqdm import tqdm\n",
    "\n",
    "        \n",
    "with open('previsao.csv', 'a', encoding='utf-8', errors='replace') as output_file:\n",
    "    while True:\n",
    "        c = 0\n",
    "        for trip in tqdm(trips): \n",
    "            try:\n",
    "                result = previsao_linhas(session, trip)\n",
    "                if result.status_code != 200:\n",
    "                    print(f'Trip {trip} devolveu {result.status_code}: {result.text}')\n",
    "                    continue\n",
    "                c += 1\n",
    "                result = result.json()\n",
    "                linhas = result.get('l',[])\n",
    "                # print(f'{result[\"ps\"]} -> Total de linhas: {len(linhas):,}')\n",
    "\n",
    "                output_file.write(json.dumps(result))\n",
    "                output_file.write('\\n')\n",
    "\n",
    "            except Exception as e:\n",
    "                print(e)\n",
    "            \n",
    "        output_file.flush()\n",
    "        print(f'sleep: {c:,} linhas')\n",
    "        time.sleep(30)\n",
    "\n",
    "\n",
    "    "
   ]
  },
  {
   "cell_type": "code",
   "execution_count": null,
   "id": "ecd06c77-b3de-4b9b-9677-8a3eb3d832a3",
   "metadata": {},
   "outputs": [],
   "source": []
  }
 ],
 "metadata": {
  "kernelspec": {
   "display_name": "Python 3 (ipykernel)",
   "language": "python",
   "name": "python3"
  },
  "language_info": {
   "codemirror_mode": {
    "name": "ipython",
    "version": 3
   },
   "file_extension": ".py",
   "mimetype": "text/x-python",
   "name": "python",
   "nbconvert_exporter": "python",
   "pygments_lexer": "ipython3",
   "version": "3.10.8"
  }
 },
 "nbformat": 4,
 "nbformat_minor": 5
}
