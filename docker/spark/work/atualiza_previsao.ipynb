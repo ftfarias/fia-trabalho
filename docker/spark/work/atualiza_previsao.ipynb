{
 "cells": [
  {
   "cell_type": "markdown",
   "id": "d0e51b43-48fc-4e47-82ee-d33c6f97c654",
   "metadata": {},
   "source": [
    "ação.\n",
    "API: https://www.sptrans.com.br/desenvolvedores\n",
    "ENDPOINTS:https://www.sptrans.com.br/desenvolvedores/api-do-olho-vivo-guia-de-r\n",
    "eferencia/documentacao-api/\n",
    "Utilizar o GTFS da SPTRANS para dados complementares (Dados\n",
    "Estáticos/Cadastrais).\n",
    "Enriquecer os dados de paradas com o endereço da localidade, através de latitude e\n",
    "longitude.\n",
    "Dados do GTFS: https://gtfs.org/documentation/schedule/reference/\n"
   ]
  },
  {
   "cell_type": "code",
   "execution_count": 1,
   "id": "48aa4af9-0e21-43ee-b76f-9f11c5b30630",
   "metadata": {},
   "outputs": [],
   "source": [
    "import requests\n",
    "import pandas as pd\n",
    "API_TOKEN = \"36b9de7cf0f0bcd8cdde826217615c1b5d2e7b71c80397ec50d1ec7620b4f872\"\n",
    "BASE_URL = \"http://api.olhovivo.sptrans.com.br/v2.1\"\n",
    "BASE_PATH = '.'\n"
   ]
  },
  {
   "cell_type": "code",
   "execution_count": 2,
   "id": "f7228e86-910c-4f64-afec-a06e5f935642",
   "metadata": {},
   "outputs": [
    {
     "name": "stdout",
     "output_type": "stream",
     "text": [
      "true\n"
     ]
    }
   ],
   "source": [
    "session = requests.Session()\n",
    "def authenticate(api_token):\n",
    "     # Define the authentication endpoint\n",
    "    auth_endpoint = f\"{BASE_URL}/Login/Autenticar?token={api_token}\"\n",
    "    \n",
    "    try:\n",
    "        # Make a POST request to authenticate\n",
    "        response = session.post(auth_endpoint)\n",
    "        \n",
    "        # Check if the authentication was successful\n",
    "        if response.status_code == 200:\n",
    "            return response\n",
    "        else:\n",
    "            print(f\"Erro, status: {response.status_code}\")\n",
    "            return response\n",
    "    except requests.exceptions.RequestException as e:\n",
    "        print(f\"Erro: {e}\")\n",
    "        return False\n",
    "\n",
    "\n",
    "result = authenticate(API_TOKEN)\n",
    "print(result.text)"
   ]
  },
  {
   "cell_type": "code",
   "execution_count": 3,
   "id": "7bf0b5e3-f577-48f8-8fc5-8cd5ee7e8ed0",
   "metadata": {},
   "outputs": [
    {
     "name": "stdout",
     "output_type": "stream",
     "text": [
      "[{\"cl\":2506,\"lc\":false,\"lt\":\"8000\",\"sl\":1,\"tl\":1,\"tp\":\"PÇA. RAMOS DE AZEVEDO\",\"ts\":\"TERM. LAPA\"},{\"cl\":35274,\"lc\":false,\"lt\":\"8000\",\"sl\":2,\"tl\":1,\"tp\":\"PÇA. RAMOS DE AZEVEDO\",\"ts\":\"TERM. LAPA\"},{\"cl\":1273,\"lc\":false,\"lt\":\"8000\",\"sl\":1,\"tl\":10,\"tp\":\"PÇA. RAMOS DE AZEVEDO\",\"ts\":\"TERM. LAPA\"},{\"cl\":34041,\"lc\":false,\"lt\":\"8000\",\"sl\":2,\"tl\":10,\"tp\":\"PÇA. RAMOS DE AZEVEDO\",\"ts\":\"TERM. LAPA\"}]\n"
     ]
    }
   ],
   "source": [
    "def buscar_linha_sentido(session, termosBusca):\n",
    "     # Define the authentication endpoint\n",
    "    endpoint = f\"{BASE_URL}/Linha/Buscar?termosBusca={termosBusca}\"\n",
    "    \n",
    "    try:\n",
    "        # Make a POST request to authenticate\n",
    "        response = session.get(endpoint)\n",
    "        \n",
    "        # Check if the authentication was successful\n",
    "        if response.status_code == 200:\n",
    "            return response\n",
    "        else:\n",
    "            print(f\"Erro, status: {response.status_code}\")\n",
    "            return response\n",
    "    except requests.exceptions.RequestException as e:\n",
    "        print(f\"Erro: {e}\")\n",
    "        return False\n",
    "\n",
    "\n",
    "result = buscar_linha_sentido(session, '8000')\n",
    "print(result.text)\n",
    "\n"
   ]
  },
  {
   "cell_type": "code",
   "execution_count": 4,
   "id": "a09d47fc-2e8a-4007-8660-d78e0cf5f966",
   "metadata": {},
   "outputs": [],
   "source": [
    "import json\n",
    "\n",
    "def generic_get(session, endpoint):\n",
    "     # Define the authentication endpoint\n",
    "    endpoint = BASE_URL + endpoint    \n",
    "    # print(endpoint)\n",
    "    try:\n",
    "        # Make a POST request to authenticate\n",
    "        response = session.get(endpoint)\n",
    "        \n",
    "        # Check if the authentication was successful\n",
    "        if response.status_code == 200:\n",
    "            return response\n",
    "        else:\n",
    "            print(f\"Erro, status: {response.status_code}\")\n",
    "            return response\n",
    "    except requests.exceptions.RequestException as e:\n",
    "        print(f\"Erro: {e}\")\n",
    "        return False\n",
    "\n",
    "def kmz(session):\n",
    "    return generic_get(session, '/KMZ')\n",
    "\n",
    "def parada_buscar(session, termos_busca):\n",
    "    return generic_get(session, f\"/Parada/Buscar?termosBusca='{termos_busca}'\")\n",
    "\n",
    "def linha_buscar(session, termos_busca):\n",
    "    return generic_get(session, f\"/Linha/Buscar?termosBusca='{termos_busca}'\")\n",
    "\n",
    "def parada_buscar_por_linha(session, codigo_linha):\n",
    "    return generic_get(session, f\"/Parada/BuscarParadasPorLinha?codigoLinha={codigo_linha}\")\n",
    "\n",
    "def previsao_parada(session, codigo_parada):\n",
    "    return generic_get(session, f'/Previsao/Parada?codigoParada={codigo_parada}')\n",
    "\n",
    "def previsao_linhas(session, codigo_linha):\n",
    "    return generic_get(session, f'/Previsao/Linha?codigoLinha={codigo_linha}')\n",
    "\n",
    "def previsao_parada_all(session):\n",
    "    return generic_get(session, f'/Previsao')\n",
    "    \n",
    "def posicao(session):\n",
    "    return generic_get(session, f'/Posicao')\n",
    "\n",
    "def posicao_por_linha(session, codigo_linha):\n",
    "    return generic_get(session, f\"/Posicao/Linha?codigoLinha={codigo_linha}\")\n",
    "\n",
    "# paradas = parada_buscar(session, 'rebouças');\n",
    "# print(json.dumps(result.json(), indent=4))\n",
    "\n",
    "# paradas = parada_buscar(session, 'rebouças');\n",
    "# print(json.dumps(result.json(), indent=4))\n",
    "\n",
    "# result = parada_buscar_por_linha(session, '1171')\n",
    "# print(json.dumps(result.json(), indent=4))\n",
    "\n",
    "# result = previsao_parada(session, '630015011')\n",
    "# print(json.dumps(result.json(), indent=2))\n",
    "\n",
    "# result = posicao(session)\n",
    "# print(json.dumps(result.json(), indent=2))\n",
    "\n",
    "# result = posicao_por_linha(session, 1171)\n",
    "# print(json.dumps(result.json(), indent=2))\n",
    "\n",
    "# result = previsao_parada_all(session)\n",
    "# print(json.dumps(result.json(), indent=2))\n",
    "\n",
    "result = previsao_linhas(session, '1171')\n",
    "# print(json.dumps(result.json(), indent=2))\n",
    "\n",
    "\n",
    "# paradas = linha_buscar(session, 'USP');\n",
    "# print(json.dumps(result.json(), indent=4))\n"
   ]
  },
  {
   "cell_type": "code",
   "execution_count": null,
   "id": "dc76066f-3218-43a8-83be-561883ec2cb8",
   "metadata": {},
   "outputs": [],
   "source": []
  },
  {
   "cell_type": "code",
   "execution_count": null,
   "id": "e46dd71b-dc47-45d2-a365-cfa2707e8ee8",
   "metadata": {},
   "outputs": [],
   "source": []
  },
  {
   "cell_type": "code",
   "execution_count": 5,
   "id": "0ea4ac93-f661-443d-85a3-5e6bfce331e3",
   "metadata": {},
   "outputs": [
    {
     "name": "stdout",
     "output_type": "stream",
     "text": [
      "(2241, 6)\n",
      "674\n"
     ]
    },
    {
     "data": {
      "text/plain": [
       "['Jd. São Paulo',\n",
       " 'Vl. Ayrosa',\n",
       " 'Metrô Alto Do Ipiranga',\n",
       " 'Jd. São Nicolau',\n",
       " 'Vl. Jacui',\n",
       " 'Jd. Herplin',\n",
       " 'Jd. Belém',\n",
       " 'Metrô Vl. Matilde',\n",
       " 'Jd. Ester',\n",
       " 'Lgo. Do Paissandú']"
      ]
     },
     "execution_count": 5,
     "metadata": {},
     "output_type": "execute_result"
    }
   ],
   "source": [
    "df_trips = pd.read_csv(f'{BASE_PATH}/trips.txt', header=0)\n",
    "df_trips.head()\n",
    "print(df_trips.shape)\n",
    "trips = df_trips[['trip_headsign']].values\n",
    "trips = set([x[0].replace('-','') for x in trips])\n",
    "print(len(trips))\n",
    "list(trips)[:10]"
   ]
  },
  {
   "cell_type": "code",
   "execution_count": 6,
   "id": "85e1f86b-1332-4b45-b427-f1299068a873",
   "metadata": {},
   "outputs": [],
   "source": [
    "# import time\n",
    "# import json\n",
    "\n",
    "# with open('linha-codigo.json', 'a', encoding='utf-8', errors='replace') as output_file:\n",
    "#     for i, trip in enumerate(trips): \n",
    "#         print(i)\n",
    "#         try:\n",
    "#             result = linha_buscar(session, trip)\n",
    "#             if result.status_code != 200:\n",
    "#                 print(f'Trip {trip} devolveu {result.status_code}: {result.text}')\n",
    "#                 continue\n",
    "#             result = result.json()\n",
    "#             output_file.write(json.dumps(result))\n",
    "#             output_file.write('\\n')\n",
    "\n",
    "#         except Exception as e:\n",
    "#             print(e)\n",
    "\n",
    "#     output_file.flush()\n",
    "    "
   ]
  },
  {
   "cell_type": "code",
   "execution_count": 7,
   "id": "8fffe0dd-04ea-450c-8db4-c0b40f114e30",
   "metadata": {},
   "outputs": [
    {
     "name": "stdout",
     "output_type": "stream",
     "text": [
      "[]\n",
      "[{\"cl\": 775, \"lc\": false, \"lt\": \"7013\", \"sl\": 1, \"tl\": 10, \"tp\": \"TERM. VL. S\\u00d4NIA\", \"ts\": \"PQ. ARARIBA\"}, {\"cl\": 33543, \"lc\": false, \"lt\": \"7013\", \"sl\": 2, \"tl\": 10, \"tp\": \"TERM. VL. S\\u00d4NIA\", \"ts\": \"PQ. ARARIBA\"}, {\"cl\": 496, \"lc\": false, \"lt\": \"7458\", \"sl\": 1, \"tl\": 10, \"tp\": \"TERM. VL. S\\u00d4NIA\", \"ts\": \"JD. BOA VISTA\"}, {\"cl\": 33264, \"lc\": false, \"lt\": \"7458\", \"sl\": 2, \"tl\": 10, \"tp\": \"TERM. VL. S\\u00d4NIA\", \"ts\": \"JD. BOA VISTA\"}, {\"cl\": 2574, \"lc\": false, \"lt\": \"8019\", \"sl\": 1, \"tl\": 31, \"tp\": \"TERM. VL. S\\u00d4NIA\", \"ts\": \"PQ. CONTINENTAL\"}, {\"cl\": 35342, \"lc\": false, \"lt\": \"8019\", \"sl\": 2, \"tl\": 31, \"tp\": \"TERM. VL. S\\u00d4NIA\", \"ts\": \"PQ. CONTINENTAL\"}, {\"cl\": 2074, \"lc\": false, \"lt\": \"8023\", \"sl\": 1, \"tl\": 10, \"tp\": \"TERM. VL. S\\u00d4NIA\", \"ts\": \"CDHU MUNCK\"}, {\"cl\": 34842, \"lc\": false, \"lt\": \"8023\", \"sl\": 2, \"tl\": 10, \"tp\": \"TERM. VL. S\\u00d4NIA\", \"ts\": \"CDHU MUNCK\"}, {\"cl\": 2076, \"lc\": false, \"lt\": \"8025\", \"sl\": 1, \"tl\": 10, \"tp\": \"TERM. VL. S\\u00d4NIA\", \"ts\": \"JD. ROSA MARIA\"}, {\"cl\": 34844, \"lc\": false, \"lt\": \"8025\", \"sl\": 2, \"tl\": 10, \"tp\": \"TERM. VL. S\\u00d4NIA\", \"ts\": \"JD. ROSA MARIA\"}, {\"cl\": 2083, \"lc\": false, \"lt\": \"8026\", \"sl\": 1, \"tl\": 10, \"tp\": \"TERM. VL. S\\u00d4NIA\", \"ts\": \"JD. ING\\u00c1\"}, {\"cl\": 34851, \"lc\": false, \"lt\": \"8026\", \"sl\": 2, \"tl\": 10, \"tp\": \"TERM. VL. S\\u00d4NIA\", \"ts\": \"JD. ING\\u00c1\"}, {\"cl\": 2562, \"lc\": false, \"lt\": \"8030\", \"sl\": 1, \"tl\": 10, \"tp\": \"TERM. VL. S\\u00d4NIA\", \"ts\": \"PARAIS\\u00d3POLIS\"}, {\"cl\": 35330, \"lc\": false, \"lt\": \"8030\", \"sl\": 2, \"tl\": 10, \"tp\": \"TERM. VL. S\\u00d4NIA\", \"ts\": \"PARAIS\\u00d3POLIS\"}, {\"cl\": 2081, \"lc\": false, \"lt\": \"8073\", \"sl\": 1, \"tl\": 10, \"tp\": \"TERM. VL. S\\u00d4NIA\", \"ts\": \"JD. GUARA\\u00da\"}, {\"cl\": 34849, \"lc\": false, \"lt\": \"8073\", \"sl\": 2, \"tl\": 10, \"tp\": \"TERM. VL. S\\u00d4NIA\", \"ts\": \"JD. GUARA\\u00da\"}, {\"cl\": 2537, \"lc\": false, \"lt\": \"8075\", \"sl\": 1, \"tl\": 21, \"tp\": \"TERM. VL. S\\u00d4NIA\", \"ts\": \"TERM. CAMPO LIMPO\"}, {\"cl\": 35305, \"lc\": false, \"lt\": \"8075\", \"sl\": 2, \"tl\": 21, \"tp\": \"TERM. VL. S\\u00d4NIA\", \"ts\": \"TERM. CAMPO LIMPO\"}, {\"cl\": 2050, \"lc\": false, \"lt\": \"8077\", \"sl\": 1, \"tl\": 10, \"tp\": \"TERM. VL. S\\u00d4NIA\", \"ts\": \"JD. JO\\u00c3O XXIII\"}, {\"cl\": 34818, \"lc\": false, \"lt\": \"8077\", \"sl\": 2, \"tl\": 10, \"tp\": \"TERM. VL. S\\u00d4NIA\", \"ts\": \"JD. JO\\u00c3O XXIII\"}]\n"
     ]
    }
   ],
   "source": [
    "!head -n 2 linha-codigo.json"
   ]
  },
  {
   "cell_type": "code",
   "execution_count": 8,
   "id": "cba7d413-e514-4c1c-a533-aa7a941d1a1d",
   "metadata": {},
   "outputs": [],
   "source": [
    "total = 0\n",
    "cl = {}\n",
    "\n",
    "with open('linha-codigo.json', 'r', encoding='utf-8', errors='replace') as input_file:\n",
    "    for row in input_file:\n",
    "        linhas = json.loads(row)\n",
    "        total += len(linhas)\n",
    "        for l in linhas:\n",
    "            cl[l.get('cl')] = l \n",
    "            \n",
    "\n"
   ]
  },
  {
   "cell_type": "code",
   "execution_count": null,
   "id": "c122cb26-2538-4936-8bb8-802b93050cb7",
   "metadata": {},
   "outputs": [],
   "source": []
  },
  {
   "cell_type": "code",
   "execution_count": 9,
   "id": "d56ac6c0-ec3a-4471-88f5-e72c50a00da7",
   "metadata": {},
   "outputs": [
    {
     "name": "stderr",
     "output_type": "stream",
     "text": [
      "100%|██████████| 2658/2658 [00:00<00:00, 272431.94it/s]\n"
     ]
    }
   ],
   "source": [
    "from tqdm import tqdm\n",
    "trips = []\n",
    "\n",
    "with open('linhas_from_api.json', 'w', encoding='utf-8', errors='replace') as output_file:\n",
    "    for k,v in tqdm(cl.items()):\n",
    "        trips.append(k)\n",
    "        output_file.write(json.dumps(v))\n",
    "        output_file.write('\\n')\n",
    "\n"
   ]
  },
  {
   "cell_type": "code",
   "execution_count": 10,
   "id": "ae44fafd-1761-427d-8d50-ff5d2e054380",
   "metadata": {},
   "outputs": [],
   "source": [
    "\n",
    "# previsao_linhas(session, '198').json()"
   ]
  },
  {
   "cell_type": "code",
   "execution_count": 11,
   "id": "70fac2fe-df60-4694-adb4-1fe86d58a503",
   "metadata": {},
   "outputs": [
    {
     "data": {
      "text/plain": [
       "2658"
      ]
     },
     "execution_count": 11,
     "metadata": {},
     "output_type": "execute_result"
    }
   ],
   "source": [
    "len(trips)"
   ]
  },
  {
   "cell_type": "code",
   "execution_count": 12,
   "id": "d104440f-e7fb-4e15-acd2-3959227a144e",
   "metadata": {},
   "outputs": [
    {
     "name": "stderr",
     "output_type": "stream",
     "text": [
      "100%|██████████| 2658/2658 [02:35<00:00, 17.11it/s]\n"
     ]
    },
    {
     "name": "stdout",
     "output_type": "stream",
     "text": [
      "sleep: 2,658 linhas\n"
     ]
    },
    {
     "name": "stderr",
     "output_type": "stream",
     "text": [
      "100%|██████████| 2658/2658 [02:41<00:00, 16.44it/s]\n"
     ]
    },
    {
     "name": "stdout",
     "output_type": "stream",
     "text": [
      "sleep: 2,658 linhas\n"
     ]
    },
    {
     "ename": "KeyboardInterrupt",
     "evalue": "",
     "output_type": "error",
     "traceback": [
      "\u001b[0;31m---------------------------------------------------------------------------\u001b[0m",
      "\u001b[0;31mKeyboardInterrupt\u001b[0m                         Traceback (most recent call last)",
      "Cell \u001b[0;32mIn[12], line 28\u001b[0m\n\u001b[1;32m     26\u001b[0m output_file\u001b[38;5;241m.\u001b[39mflush()\n\u001b[1;32m     27\u001b[0m \u001b[38;5;28mprint\u001b[39m(\u001b[38;5;124mf\u001b[39m\u001b[38;5;124m'\u001b[39m\u001b[38;5;124msleep: \u001b[39m\u001b[38;5;132;01m{\u001b[39;00mc\u001b[38;5;132;01m:\u001b[39;00m\u001b[38;5;124m,\u001b[39m\u001b[38;5;132;01m}\u001b[39;00m\u001b[38;5;124m linhas\u001b[39m\u001b[38;5;124m'\u001b[39m)\n\u001b[0;32m---> 28\u001b[0m \u001b[43mtime\u001b[49m\u001b[38;5;241;43m.\u001b[39;49m\u001b[43msleep\u001b[49m\u001b[43m(\u001b[49m\u001b[38;5;241;43m30\u001b[39;49m\u001b[43m)\u001b[49m\n",
      "\u001b[0;31mKeyboardInterrupt\u001b[0m: "
     ]
    }
   ],
   "source": [
    "import time\n",
    "import json\n",
    "from tqdm import tqdm\n",
    "\n",
    "        \n",
    "with open('previsao2.json', 'a', encoding='utf-8', errors='replace') as output_file:\n",
    "    while True:\n",
    "        c = 0\n",
    "        for trip in tqdm(trips): \n",
    "            try:\n",
    "                result = previsao_linhas(session, trip)\n",
    "                if result.status_code != 200:\n",
    "                    print(f'Trip {trip} devolveu {result.status_code}: {result.text}')\n",
    "                    continue\n",
    "                c += 1\n",
    "                result = result.json()\n",
    "                linhas = result.get('l',[])\n",
    "                # print(f'{result[\"ps\"]} -> Total de linhas: {len(linhas):,}')\n",
    "\n",
    "                output_file.write(json.dumps(result))\n",
    "                output_file.write('\\n')\n",
    "\n",
    "            except Exception as e:\n",
    "                print(e)\n",
    "            \n",
    "        output_file.flush()\n",
    "        print(f'sleep: {c:,} linhas')\n",
    "        time.sleep(30)\n",
    "\n",
    "\n",
    "    "
   ]
  },
  {
   "cell_type": "code",
   "execution_count": null,
   "id": "ecd06c77-b3de-4b9b-9677-8a3eb3d832a3",
   "metadata": {},
   "outputs": [],
   "source": []
  }
 ],
 "metadata": {
  "kernelspec": {
   "display_name": "Python 3 (ipykernel)",
   "language": "python",
   "name": "python3"
  },
  "language_info": {
   "codemirror_mode": {
    "name": "ipython",
    "version": 3
   },
   "file_extension": ".py",
   "mimetype": "text/x-python",
   "name": "python",
   "nbconvert_exporter": "python",
   "pygments_lexer": "ipython3",
   "version": "3.10.8"
  }
 },
 "nbformat": 4,
 "nbformat_minor": 5
}
