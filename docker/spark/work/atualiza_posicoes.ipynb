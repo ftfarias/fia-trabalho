{
 "cells": [
  {
   "cell_type": "markdown",
   "id": "d0e51b43-48fc-4e47-82ee-d33c6f97c654",
   "metadata": {},
   "source": [
    "ação.\n",
    "API: https://www.sptrans.com.br/desenvolvedores\n",
    "ENDPOINTS:https://www.sptrans.com.br/desenvolvedores/api-do-olho-vivo-guia-de-r\n",
    "eferencia/documentacao-api/\n",
    "Utilizar o GTFS da SPTRANS para dados complementares (Dados\n",
    "Estáticos/Cadastrais).\n",
    "Enriquecer os dados de paradas com o endereço da localidade, através de latitude e\n",
    "longitude.\n",
    "Dados do GTFS: https://gtfs.org/documentation/schedule/reference/\n"
   ]
  },
  {
   "cell_type": "code",
   "execution_count": 1,
   "id": "48aa4af9-0e21-43ee-b76f-9f11c5b30630",
   "metadata": {},
   "outputs": [],
   "source": [
    "import requests\n",
    "import pandas as pd\n",
    "API_TOKEN = \"36b9de7cf0f0bcd8cdde826217615c1b5d2e7b71c80397ec50d1ec7620b4f872\"\n",
    "BASE_URL = \"http://api.olhovivo.sptrans.com.br/v2.1\"\n",
    "BASE_PATH = ''"
   ]
  },
  {
   "cell_type": "code",
   "execution_count": 2,
   "id": "f7228e86-910c-4f64-afec-a06e5f935642",
   "metadata": {},
   "outputs": [
    {
     "name": "stdout",
     "output_type": "stream",
     "text": [
      "true\n"
     ]
    }
   ],
   "source": [
    "session = requests.Session()\n",
    "def authenticate(api_token):\n",
    "     # Define the authentication endpoint\n",
    "    auth_endpoint = f\"{BASE_URL}/Login/Autenticar?token={api_token}\"\n",
    "    \n",
    "    try:\n",
    "        # Make a POST request to authenticate\n",
    "        response = session.post(auth_endpoint)\n",
    "        \n",
    "        # Check if the authentication was successful\n",
    "        if response.status_code == 200:\n",
    "            return response\n",
    "        else:\n",
    "            print(f\"Erro, status: {response.status_code}\")\n",
    "            return False\n",
    "    except requests.exceptions.RequestException as e:\n",
    "        print(f\"Erro: {e}\")\n",
    "        return False\n",
    "\n",
    "\n",
    "result = authenticate(API_TOKEN)\n",
    "print(result.text)"
   ]
  },
  {
   "cell_type": "code",
   "execution_count": 3,
   "id": "7bf0b5e3-f577-48f8-8fc5-8cd5ee7e8ed0",
   "metadata": {},
   "outputs": [
    {
     "name": "stdout",
     "output_type": "stream",
     "text": [
      "[{\"cl\":2506,\"lc\":false,\"lt\":\"8000\",\"sl\":1,\"tl\":1,\"tp\":\"PÇA. RAMOS DE AZEVEDO\",\"ts\":\"TERM. LAPA\"},{\"cl\":35274,\"lc\":false,\"lt\":\"8000\",\"sl\":2,\"tl\":1,\"tp\":\"PÇA. RAMOS DE AZEVEDO\",\"ts\":\"TERM. LAPA\"},{\"cl\":1273,\"lc\":false,\"lt\":\"8000\",\"sl\":1,\"tl\":10,\"tp\":\"PÇA. RAMOS DE AZEVEDO\",\"ts\":\"TERM. LAPA\"},{\"cl\":34041,\"lc\":false,\"lt\":\"8000\",\"sl\":2,\"tl\":10,\"tp\":\"PÇA. RAMOS DE AZEVEDO\",\"ts\":\"TERM. LAPA\"}]\n"
     ]
    }
   ],
   "source": [
    "def buscar_linha_sentido(session, termosBusca):\n",
    "     # Define the authentication endpoint\n",
    "    endpoint = f\"{BASE_URL}/Linha/Buscar?termosBusca={termosBusca}\"\n",
    "    \n",
    "    try:\n",
    "        # Make a POST request to authenticate\n",
    "        response = session.get(endpoint)\n",
    "        \n",
    "        # Check if the authentication was successful\n",
    "        if response.status_code == 200:\n",
    "            return response\n",
    "        else:\n",
    "            print(f\"Erro, status: {response.status_code}\")\n",
    "            return response\n",
    "    except requests.exceptions.RequestException as e:\n",
    "        print(f\"Erro: {e}\")\n",
    "        return False\n",
    "\n",
    "\n",
    "result = buscar_linha_sentido(session, '8000')\n",
    "print(result.text)\n",
    "\n"
   ]
  },
  {
   "cell_type": "code",
   "execution_count": 6,
   "id": "a09d47fc-2e8a-4007-8660-d78e0cf5f966",
   "metadata": {
    "scrolled": true
   },
   "outputs": [],
   "source": [
    "import json\n",
    "\n",
    "def generic_get(session, endpoint):\n",
    "     # Define the authentication endpoint\n",
    "    endpoint = BASE_URL + endpoint    \n",
    "    print(endpoint)\n",
    "    try:\n",
    "        # Make a POST request to authenticate\n",
    "        response = session.get(endpoint)\n",
    "        \n",
    "        # Check if the authentication was successful\n",
    "        if response.status_code == 200:\n",
    "            return response\n",
    "        else:\n",
    "            print(f\"Erro, status: {response.status_code}\")\n",
    "            return response\n",
    "    except requests.exceptions.RequestException as e:\n",
    "        print(f\"Erro: {e}\")\n",
    "        return False\n",
    "\n",
    "def kmz(session):\n",
    "    return generic_get(session, '/KMZ')\n",
    "\n",
    "def parada_buscar(session, termos_busca):\n",
    "    return generic_get(session, f\"/Parada/Buscar?termosBusca='{termos_busca}'\")\n",
    "\n",
    "def parada_buscar_por_linha(session, codigo_linha):\n",
    "    return generic_get(session, f\"/Parada/BuscarParadasPorLinha?codigoLinha={codigo_linha}\")\n",
    "\n",
    "def previsao_parada(session, codigo_parada):\n",
    "    return generic_get(session, f'/Previsao/Parada?codigoParada={codigo_parada}')\n",
    "\n",
    "def posicao(session):\n",
    "    return generic_get(session, f'/Posicao')\n",
    "\n",
    "def posicao_por_linha(session, codigo_linha):\n",
    "    return generic_get(session, f\"/Posicao/Linha?codigoLinha={codigo_linha}\")\n",
    "\n",
    "# paradas = parada_buscar(session, 'rebouças');\n",
    "# print(json.dumps(result.json(), indent=4))\n",
    "\n",
    "# result = parada_buscar_por_linha(session, '1171')\n",
    "# print(json.dumps(result.json(), indent=4))\n",
    "\n",
    "# result = previsao_parada(session, '630015011')\n",
    "# print(json.dumps(result.json(), indent=4))\n",
    "\n",
    "# result = posicao(session)\n",
    "# print(json.dumps(result.json(), indent=2))\n",
    "\n",
    "# result = posicao_por_linha(session, 1171)\n",
    "# print(json.dumps(result.json(), indent=2))\n",
    "\n"
   ]
  },
  {
   "cell_type": "code",
   "execution_count": 5,
   "id": "d104440f-e7fb-4e15-acd2-3959227a144e",
   "metadata": {},
   "outputs": [
    {
     "name": "stdout",
     "output_type": "stream",
     "text": [
      "http://api.olhovivo.sptrans.com.br/v2.1/Posicao\n",
      "20:43 -> Total de linhas: 2,038\n",
      "http://api.olhovivo.sptrans.com.br/v2.1/Posicao\n",
      "20:43 -> Total de linhas: 2,040\n"
     ]
    },
    {
     "ename": "KeyboardInterrupt",
     "evalue": "",
     "output_type": "error",
     "traceback": [
      "\u001b[0;31m---------------------------------------------------------------------------\u001b[0m",
      "\u001b[0;31mKeyboardInterrupt\u001b[0m                         Traceback (most recent call last)",
      "Cell \u001b[0;32mIn[5], line 19\u001b[0m\n\u001b[1;32m     17\u001b[0m     output_file\u001b[38;5;241m.\u001b[39mwrite(\u001b[38;5;124m'\u001b[39m\u001b[38;5;130;01m\\n\u001b[39;00m\u001b[38;5;124m'\u001b[39m)\n\u001b[1;32m     18\u001b[0m     output_file\u001b[38;5;241m.\u001b[39mflush()\n\u001b[0;32m---> 19\u001b[0m     \u001b[43mtime\u001b[49m\u001b[38;5;241;43m.\u001b[39;49m\u001b[43msleep\u001b[49m\u001b[43m(\u001b[49m\u001b[38;5;241;43m30\u001b[39;49m\u001b[43m)\u001b[49m\n\u001b[1;32m     20\u001b[0m \u001b[38;5;28;01mexcept\u001b[39;00m \u001b[38;5;167;01mException\u001b[39;00m \u001b[38;5;28;01mas\u001b[39;00m e:\n\u001b[1;32m     21\u001b[0m     \u001b[38;5;28mprint\u001b[39m(e)\n",
      "\u001b[0;31mKeyboardInterrupt\u001b[0m: "
     ]
    }
   ],
   "source": [
    "import time\n",
    "import json\n",
    "\n",
    "with open('posicoes.csv', 'a', encoding='utf-8', errors='replace') as output_file:\n",
    "    while True:\n",
    "        result = posicao(session)\n",
    "        if result.status_code != 200:\n",
    "            print(f'Erro: status code: {result.status_code}')\n",
    "            continue\n",
    "        try:\n",
    "            result = result.json()\n",
    "            \n",
    "            linhas = result.get('l',[])\n",
    "            print(f'{result[\"hr\"]} -> Total de linhas: {len(linhas):,}')\n",
    "    \n",
    "            output_file.write(json.dumps(result))\n",
    "            output_file.write('\\n')\n",
    "            output_file.flush()\n",
    "            time.sleep(30)\n",
    "        except Exception as e:\n",
    "            print(e)\n",
    "            \n",
    "\n",
    "\n"
   ]
  },
  {
   "cell_type": "code",
   "execution_count": null,
   "id": "ecd06c77-b3de-4b9b-9677-8a3eb3d832a3",
   "metadata": {},
   "outputs": [],
   "source": []
  }
 ],
 "metadata": {
  "kernelspec": {
   "display_name": "Python 3 (ipykernel)",
   "language": "python",
   "name": "python3"
  },
  "language_info": {
   "codemirror_mode": {
    "name": "ipython",
    "version": 3
   },
   "file_extension": ".py",
   "mimetype": "text/x-python",
   "name": "python",
   "nbconvert_exporter": "python",
   "pygments_lexer": "ipython3",
   "version": "3.10.8"
  }
 },
 "nbformat": 4,
 "nbformat_minor": 5
}
