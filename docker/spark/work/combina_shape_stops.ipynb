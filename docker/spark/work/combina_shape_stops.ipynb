{
 "cells": [
  {
   "cell_type": "code",
   "execution_count": 1,
   "id": "e88ab2b1-8a86-408b-87f1-a2966c3c4d7e",
   "metadata": {},
   "outputs": [
    {
     "data": {
      "text/html": [
       "\n",
       "            <div>\n",
       "                <p><b>SparkSession - in-memory</b></p>\n",
       "                \n",
       "        <div>\n",
       "            <p><b>SparkContext</b></p>\n",
       "\n",
       "            <p><a href=\"http://spark-master:4040\">Spark UI</a></p>\n",
       "\n",
       "            <dl>\n",
       "              <dt>Version</dt>\n",
       "                <dd><code>v3.3.1</code></dd>\n",
       "              <dt>Master</dt>\n",
       "                <dd><code>spark://spark-master:7077</code></dd>\n",
       "              <dt>AppName</dt>\n",
       "                <dd><code>test-jdbc</code></dd>\n",
       "            </dl>\n",
       "        </div>\n",
       "        \n",
       "            </div>\n",
       "        "
      ],
      "text/plain": [
       "<pyspark.sql.session.SparkSession at 0x7fffe844d8a0>"
      ]
     },
     "metadata": {},
     "output_type": "display_data"
    }
   ],
   "source": [
    "from pyspark.sql import SparkSession\n",
    "from pyspark.sql import Row\n",
    "\n",
    "jar_files = [\n",
    "    \"/util/clickhouse-jdbc-0.3.2-all.jar\"\n",
    "]\n",
    "\n",
    "# Initialize Spark session with JARs\n",
    "spark = SparkSession.builder \\\n",
    "    .appName(\"test-jdbc\") \\\n",
    "    .master(\"spark://spark-master:7077\") \\\n",
    "    .config(\"spark.jars\", \",\".join(jar_files)) \\\n",
    "    .config(\"spark.sql.extensions\", \"io.delta.sql.DeltaSparkSessionExtension\") \\\n",
    "    .config(\"spark.sql.catalog.spark_catalog\", \"org.apache.spark.sql.delta.catalog.DeltaCatalog\") \\\n",
    "    .config(\"spark.sql.extensions\",\"io.delta.sql.DeltaSparkSessionExtension\") \\\n",
    "    .config(\"spark.sql.catalog.spark_catalog\",\"org.apache.spark.sql.delta.catalog.DeltaCatalog\") \\\n",
    "    .config(\"spark.hadoop.fs.s3a.access.key\",\"NzUmXT2E7YJIY3m9yFBz\") \\\n",
    "    .config(\"spark.hadoop.fs.s3a.secret.key\",\"5SCMGEtt52EziOcTUi9dyMt5dfFE2MBaK1ZaskPX\") \\\n",
    "    .config(\"spark.hadoop.fs.s3a.endpoint\",\"http://minio:9000\") \\\n",
    "    .config(\"spark.hadoop.fs.s3a.path.style.access\", \"true\") \\\n",
    "    .config(\"spark.hadoop.fs.s3a.impl\", \"org.apache.hadoop.fs.s3a.S3AFileSystem\") \\\n",
    "    .getOrCreate()\n",
    "\n",
    "\n",
    "url = \"jdbc:ch://clickhouse:8123/cameraaberta\"\n",
    "user = \"admin\" \n",
    "password = \"admin\"  \n",
    "driver = \"com.clickhouse.jdbc.ClickHouseDriver\"\n",
    "\n",
    "display(spark)"
   ]
  },
  {
   "cell_type": "code",
   "execution_count": 2,
   "id": "f37d702b-55f9-41bb-b1a4-86a1009500a0",
   "metadata": {},
   "outputs": [
    {
     "name": "stdout",
     "output_type": "stream",
     "text": [
      "+-------+---------------+---------+----------+----------+\n",
      "|stop_id|      stop_name|stop_desc|  stop_lat|  stop_lon|\n",
      "+-------+---------------+---------+----------+----------+\n",
      "|  18848|       Clínicas|     null|-23.554022|-46.671108|\n",
      "|  18849|  Vila Madalena|     null|-23.546498|-46.691141|\n",
      "|  18850|     Consolação|     null|-23.558094|-46.660205|\n",
      "|  18851|      Conceição|     null|-23.635039|-46.641239|\n",
      "|  18852|      Jabaquara|     null|-23.646033|-46.641028|\n",
      "|  18853|      São Judas|     null|-23.625882|-46.640936|\n",
      "|  18854|          Saúde|     null|-23.618245|-46.639139|\n",
      "|  18855|Praça Da Árvore|     null|-23.610583|-46.637918|\n",
      "|  18856|     Santa Cruz|     null|-23.598541|-46.636638|\n",
      "|  18857|   Vila Mariana|     null|-23.589359|-46.634677|\n",
      "+-------+---------------+---------+----------+----------+\n",
      "only showing top 10 rows\n",
      "\n",
      "root\n",
      " |-- stop_id: integer (nullable = true)\n",
      " |-- stop_name: string (nullable = true)\n",
      " |-- stop_desc: string (nullable = true)\n",
      " |-- stop_lat: double (nullable = true)\n",
      " |-- stop_lon: double (nullable = true)\n",
      "\n"
     ]
    }
   ],
   "source": [
    "#stops\n",
    "\n",
    "df = spark.read.option(\"inferSchema\", True).option(\"header\", \"true\") \\\n",
    "    .csv(f\"s3a://raw/stops.txt\")\n",
    "# show data\n",
    "df.show(10)\n",
    "\n",
    "df.printSchema()\n",
    "\n",
    "# Write DataFrame to ClickHouse\n",
    "df.write \\\n",
    "    .format(\"jdbc\") \\\n",
    "    .option(\"driver\", driver) \\\n",
    "    .option(\"url\", url) \\\n",
    "    .option(\"user\", user) \\\n",
    "    .option(\"password\", password) \\\n",
    "    .option(\"dbtable\", \"stops\") \\\n",
    "    .option(\"createTableOptions\", \"ENGINE=MergeTree() ORDER BY (stop_id)\") \\\n",
    "    .mode(\"overwrite\") \\\n",
    "    .save()\n",
    "\n"
   ]
  },
  {
   "cell_type": "code",
   "execution_count": 3,
   "id": "6a9bf7c0-8641-40ea-9b0a-925d5c34470c",
   "metadata": {},
   "outputs": [
    {
     "name": "stdout",
     "output_type": "stream",
     "text": [
      "+--------+----------+---------+--------------------+------------+--------+\n",
      "|route_id|service_id|  trip_id|       trip_headsign|direction_id|shape_id|\n",
      "+--------+----------+---------+--------------------+------------+--------+\n",
      "| 1012-10|       USD|1012-10-0|      Jd. Monte Belo|           0|   81072|\n",
      "| 1012-10|       USD|1012-10-1|  Term. Jd. Britania|           1|   81073|\n",
      "| 1012-21|       U__|1012-21-0|         Jd. Rosinha|           0|   81195|\n",
      "| 1014-10|       U__|1014-10-0|          Cptm Perus|           0|   82855|\n",
      "| 1015-10|       USD|1015-10-0|Chác. Maria Trindade|           0|   81148|\n",
      "| 1016-10|       USD|1016-10-0|  Shop. Center Norte|           0|   72283|\n",
      "| 1016-10|       USD|1016-10-1|       Cem. Do Horto|           1|   82172|\n",
      "| 1017-10|       USD|1017-10-0|   Conexão Vl. Iório|           0|   72355|\n",
      "| 1017-10|       USD|1017-10-1|               Perus|           1|   72356|\n",
      "| 1018-10|       USD|1018-10-0|       Metrô Santana|           0|   71029|\n",
      "+--------+----------+---------+--------------------+------------+--------+\n",
      "only showing top 10 rows\n",
      "\n",
      "root\n",
      " |-- route_id: string (nullable = true)\n",
      " |-- service_id: string (nullable = true)\n",
      " |-- trip_id: string (nullable = true)\n",
      " |-- trip_headsign: string (nullable = true)\n",
      " |-- direction_id: integer (nullable = true)\n",
      " |-- shape_id: integer (nullable = true)\n",
      "\n"
     ]
    }
   ],
   "source": [
    "#trips\n",
    "\n",
    "df = spark.read.option(\"inferSchema\", True).option(\"header\", \"true\") \\\n",
    "    .csv(f\"s3a://raw/trips.txt\")\n",
    "# show data\n",
    "df.show(10)\n",
    "\n",
    "df.printSchema()\n",
    "\n",
    "# Write DataFrame to ClickHouse\n",
    "df.write \\\n",
    "    .format(\"jdbc\") \\\n",
    "    .option(\"driver\", driver) \\\n",
    "    .option(\"url\", url) \\\n",
    "    .option(\"user\", user) \\\n",
    "    .option(\"password\", password) \\\n",
    "    .option(\"dbtable\", \"trips\") \\\n",
    "    .option(\"createTableOptions\", \"ENGINE=MergeTree() ORDER BY (route_id)\") \\\n",
    "    .mode(\"overwrite\") \\\n",
    "    .save()\n"
   ]
  },
  {
   "cell_type": "code",
   "execution_count": 4,
   "id": "ad5f2792-a7ca-4aef-a45f-aa795b4d8820",
   "metadata": {},
   "outputs": [
    {
     "name": "stdout",
     "output_type": "stream",
     "text": [
      "+---------+-------------------+-------------------+--------+-------------+\n",
      "|  trip_id|       arrival_time|     departure_time| stop_id|stop_sequence|\n",
      "+---------+-------------------+-------------------+--------+-------------+\n",
      "|1012-10-0|2025-02-04 18:00:00|2025-02-04 18:00:00|  301790|            1|\n",
      "|1012-10-0|2025-02-04 18:01:35|2025-02-04 18:01:35|  301764|            2|\n",
      "|1012-10-0|2025-02-04 18:03:10|2025-02-04 18:03:10|  301724|            3|\n",
      "|1012-10-0|2025-02-04 18:04:45|2025-02-04 18:04:45|  301730|            4|\n",
      "|1012-10-0|2025-02-04 18:06:20|2025-02-04 18:06:20|30003042|            5|\n",
      "|1012-10-0|2025-02-04 18:07:55|2025-02-04 18:07:55|30003045|            6|\n",
      "|1012-10-0|2025-02-04 18:09:30|2025-02-04 18:09:30|30003044|            7|\n",
      "|1012-10-0|2025-02-04 18:11:05|2025-02-04 18:11:05|30003043|            8|\n",
      "|1012-10-0|2025-02-04 18:12:40|2025-02-04 18:12:40|30003013|            9|\n",
      "|1012-10-0|2025-02-04 18:14:15|2025-02-04 18:14:15|  301693|           10|\n",
      "+---------+-------------------+-------------------+--------+-------------+\n",
      "only showing top 10 rows\n",
      "\n",
      "root\n",
      " |-- trip_id: string (nullable = true)\n",
      " |-- arrival_time: timestamp (nullable = true)\n",
      " |-- departure_time: timestamp (nullable = true)\n",
      " |-- stop_id: integer (nullable = true)\n",
      " |-- stop_sequence: integer (nullable = true)\n",
      "\n"
     ]
    }
   ],
   "source": [
    "#stop-times\n",
    "\n",
    "df = spark.read.option(\"inferSchema\", True).option(\"header\", \"true\") \\\n",
    "    .csv(f\"s3a://raw/stop_times.txt\")\n",
    "# show data\n",
    "df.show(10)\n",
    "\n",
    "df.printSchema()\n",
    "\n",
    "# Write DataFrame to ClickHouse\n",
    "df.write \\\n",
    "    .format(\"jdbc\") \\\n",
    "    .option(\"driver\", driver) \\\n",
    "    .option(\"url\", url) \\\n",
    "    .option(\"user\", user) \\\n",
    "    .option(\"password\", password) \\\n",
    "    .option(\"dbtable\", \"stop_times\") \\\n",
    "    .option(\"createTableOptions\", \"ENGINE=MergeTree() ORDER BY (stop_id, stop_sequence)\") \\\n",
    "    .mode(\"overwrite\") \\\n",
    "    .save()"
   ]
  },
  {
   "cell_type": "code",
   "execution_count": 5,
   "id": "7866cbea-0856-4eaa-9ac7-d7779e579dfd",
   "metadata": {},
   "outputs": [
    {
     "name": "stdout",
     "output_type": "stream",
     "text": [
      "+--------+------------+------------+-----------------+-------------------+\n",
      "|shape_id|shape_pt_lat|shape_pt_lon|shape_pt_sequence|shape_dist_traveled|\n",
      "+--------+------------+------------+-----------------+-------------------+\n",
      "|   81072|  -23.432024|  -46.787121|                1|                0.0|\n",
      "|   81072|  -23.431827|  -46.787153|                2|          22.061337|\n",
      "|   81072|  -23.431764|  -46.787163|                3|          29.113285|\n",
      "|   81072|  -23.431614|  -46.787187|                4|          45.906006|\n",
      "|   81072|   -23.43159|  -46.787191|                5|          48.596806|\n",
      "|   81072|  -23.431554|  -46.787196|                6|          52.615639|\n",
      "|   81072|  -23.431512|  -46.787202|                7|          57.306896|\n",
      "|   81072|  -23.431438|   -46.78721|                8|          65.543129|\n",
      "|   81072|  -23.431388|  -46.787215|                9|           71.10347|\n",
      "|   81072|  -23.431378|  -46.787218|               10|          72.248848|\n",
      "+--------+------------+------------+-----------------+-------------------+\n",
      "only showing top 10 rows\n",
      "\n",
      "root\n",
      " |-- shape_id: integer (nullable = true)\n",
      " |-- shape_pt_lat: double (nullable = true)\n",
      " |-- shape_pt_lon: double (nullable = true)\n",
      " |-- shape_pt_sequence: integer (nullable = true)\n",
      " |-- shape_dist_traveled: double (nullable = true)\n",
      "\n"
     ]
    }
   ],
   "source": [
    "#shapes\n",
    "\n",
    "df = spark.read.option(\"inferSchema\", True).option(\"header\", \"true\") \\\n",
    "    .csv(f\"s3a://raw/shapes.txt\")\n",
    "# show data\n",
    "df.show(10)\n",
    "\n",
    "df.printSchema()\n",
    "\n",
    "# Write DataFrame to ClickHouse\n",
    "df.write \\\n",
    "    .format(\"jdbc\") \\\n",
    "    .option(\"driver\", driver) \\\n",
    "    .option(\"url\", url) \\\n",
    "    .option(\"user\", user) \\\n",
    "    .option(\"password\", password) \\\n",
    "    .option(\"dbtable\", \"shapes\") \\\n",
    "    .option(\"createTableOptions\", \"ENGINE=MergeTree() ORDER BY (shape_id)\") \\\n",
    "    .mode(\"overwrite\") \\\n",
    "    .save()"
   ]
  },
  {
   "cell_type": "code",
   "execution_count": 6,
   "id": "2da9600e-b233-405f-86f2-90468b1270ae",
   "metadata": {},
   "outputs": [
    {
     "name": "stdout",
     "output_type": "stream",
     "text": [
      "+--------+---------+----------------+--------------------+----------+-----------+----------------+\n",
      "|route_id|agency_id|route_short_name|     route_long_name|route_type|route_color|route_text_color|\n",
      "+--------+---------+----------------+--------------------+----------+-----------+----------------+\n",
      "| 1012-10|        1|         1012-10|Term. Jd. Britani...|         3|     509E2F|          FFFFFF|\n",
      "| 1012-21|        1|         1012-21|Term. Jd. Britâni...|         3|     509E2F|          FFFFFF|\n",
      "| 1014-10|        1|         1014-10|Morro Doce - Cptm...|         3|     509E2F|          FFFFFF|\n",
      "| 1015-10|        1|         1015-10|Term. Jd. Britâni...|         3|     509E2F|          FFFFFF|\n",
      "| 1016-10|        1|         1016-10|Cem. Do Horto - S...|         3|     002F6C|          FFFFFF|\n",
      "| 1017-10|        1|         1017-10|Perus - Conexão V...|         3|     509E2F|          FFFFFF|\n",
      "| 1018-10|        1|         1018-10|Vl. Rosa - Metrô ...|         3|     002F6C|          FFFFFF|\n",
      "| 1019-10|        1|         1019-10|Sol Nascente - Te...|         3|     509E2F|          FFFFFF|\n",
      "| 1020-10|        1|         1020-10|Perus - Conexão V...|         3|     509E2F|          FFFFFF|\n",
      "| 1021-10|        1|         1021-10|Cohab Brasilândia...|         3|     509E2F|          FFFFFF|\n",
      "+--------+---------+----------------+--------------------+----------+-----------+----------------+\n",
      "only showing top 10 rows\n",
      "\n",
      "root\n",
      " |-- route_id: string (nullable = true)\n",
      " |-- agency_id: integer (nullable = true)\n",
      " |-- route_short_name: string (nullable = true)\n",
      " |-- route_long_name: string (nullable = true)\n",
      " |-- route_type: integer (nullable = true)\n",
      " |-- route_color: string (nullable = true)\n",
      " |-- route_text_color: string (nullable = true)\n",
      "\n"
     ]
    }
   ],
   "source": [
    "#routes\n",
    "\n",
    "df = spark.read.option(\"inferSchema\", True).option(\"header\", \"true\") \\\n",
    "    .csv(f\"s3a://raw/routes.txt\")\n",
    "# show data\n",
    "df.show(10)\n",
    "\n",
    "df.printSchema()\n",
    "\n",
    "# Write DataFrame to ClickHouse\n",
    "df.write \\\n",
    "    .format(\"jdbc\") \\\n",
    "    .option(\"driver\", driver) \\\n",
    "    .option(\"url\", url) \\\n",
    "    .option(\"user\", user) \\\n",
    "    .option(\"password\", password) \\\n",
    "    .option(\"dbtable\", \"routes\") \\\n",
    "    .option(\"createTableOptions\", \"ENGINE=MergeTree() ORDER BY (route_id)\") \\\n",
    "    .mode(\"overwrite\") \\\n",
    "    .save()"
   ]
  },
  {
   "cell_type": "code",
   "execution_count": 7,
   "id": "5db85d9b-7667-425a-a817-2fd1228c0fe5",
   "metadata": {},
   "outputs": [
    {
     "name": "stdout",
     "output_type": "stream",
     "text": [
      "+---------+-------------------+-------------------+------------+\n",
      "|  trip_id|         start_time|           end_time|headway_secs|\n",
      "+---------+-------------------+-------------------+------------+\n",
      "|1012-10-0|2025-02-04 00:00:00|2025-02-04 00:59:00|        1200|\n",
      "|1012-10-0|2025-02-04 01:00:00|2025-02-04 01:59:00|        3600|\n",
      "|1012-10-0|2025-02-04 05:00:00|2025-02-04 05:59:00|         600|\n",
      "|1012-10-0|2025-02-04 06:00:00|2025-02-04 06:59:00|         600|\n",
      "|1012-10-0|2025-02-04 07:00:00|2025-02-04 07:59:00|         600|\n",
      "|1012-10-0|2025-02-04 08:00:00|2025-02-04 08:59:00|         900|\n",
      "|1012-10-0|2025-02-04 09:00:00|2025-02-04 09:59:00|         900|\n",
      "|1012-10-0|2025-02-04 10:00:00|2025-02-04 10:59:00|         900|\n",
      "|1012-10-0|2025-02-04 11:00:00|2025-02-04 11:59:00|         900|\n",
      "|1012-10-0|2025-02-04 12:00:00|2025-02-04 12:59:00|         900|\n",
      "+---------+-------------------+-------------------+------------+\n",
      "only showing top 10 rows\n",
      "\n",
      "root\n",
      " |-- trip_id: string (nullable = true)\n",
      " |-- start_time: timestamp (nullable = true)\n",
      " |-- end_time: timestamp (nullable = true)\n",
      " |-- headway_secs: integer (nullable = true)\n",
      "\n"
     ]
    }
   ],
   "source": [
    "#frequencies\n",
    "\n",
    "df = spark.read.option(\"inferSchema\", True).option(\"header\", \"true\") \\\n",
    "    .csv(f\"s3a://raw/frequencies.txt\")\n",
    "# show data\n",
    "df.show(10)\n",
    "\n",
    "df.printSchema()\n",
    "\n",
    "# Write DataFrame to ClickHouse\n",
    "df.write \\\n",
    "    .format(\"jdbc\") \\\n",
    "    .option(\"driver\", driver) \\\n",
    "    .option(\"url\", url) \\\n",
    "    .option(\"user\", user) \\\n",
    "    .option(\"password\", password) \\\n",
    "    .option(\"dbtable\", \"frequencies\") \\\n",
    "    .option(\"createTableOptions\", \"ENGINE=MergeTree() ORDER BY (trip_id,start_time)\") \\\n",
    "    .mode(\"overwrite\") \\\n",
    "    .save()"
   ]
  },
  {
   "cell_type": "code",
   "execution_count": null,
   "id": "a9d1c8ca-8c1d-493f-a01d-8b509e5fe6a8",
   "metadata": {},
   "outputs": [],
   "source": []
  },
  {
   "cell_type": "code",
   "execution_count": null,
   "id": "483ffaf0-a2e1-4f22-a9aa-0949c347597d",
   "metadata": {},
   "outputs": [],
   "source": []
  },
  {
   "cell_type": "code",
   "execution_count": null,
   "id": "34ac3e22-5a1b-46b0-ab96-aeb35e678825",
   "metadata": {},
   "outputs": [],
   "source": []
  },
  {
   "cell_type": "code",
   "execution_count": null,
   "id": "28fd1c1f-cec9-4458-b040-c0512557dcf2",
   "metadata": {},
   "outputs": [],
   "source": []
  },
  {
   "cell_type": "code",
   "execution_count": null,
   "id": "d9e8b2de-d543-4a91-82f8-b9b6f101435b",
   "metadata": {},
   "outputs": [],
   "source": []
  },
  {
   "cell_type": "code",
   "execution_count": null,
   "id": "899ac5d7-a566-4af9-9d35-1898f8f60ab3",
   "metadata": {},
   "outputs": [],
   "source": []
  },
  {
   "cell_type": "code",
   "execution_count": null,
   "id": "75dabfc4-7092-4d44-9e46-941208920278",
   "metadata": {},
   "outputs": [],
   "source": []
  },
  {
   "cell_type": "code",
   "execution_count": null,
   "id": "b9e19988-55ba-458e-aae7-e43158de51ef",
   "metadata": {},
   "outputs": [],
   "source": []
  },
  {
   "cell_type": "code",
   "execution_count": null,
   "id": "7192c9c3-6b3a-4e1e-a37e-ede890ddf7db",
   "metadata": {},
   "outputs": [],
   "source": []
  },
  {
   "cell_type": "code",
   "execution_count": null,
   "id": "31f8fc70-507d-4d0a-a910-c17d73ea7261",
   "metadata": {},
   "outputs": [],
   "source": []
  },
  {
   "cell_type": "code",
   "execution_count": null,
   "id": "e31f0714-5914-4329-a5a9-45e31df4aa99",
   "metadata": {},
   "outputs": [],
   "source": []
  },
  {
   "cell_type": "code",
   "execution_count": null,
   "id": "88d83bc3-e05d-4ba5-b271-083fcc9a1092",
   "metadata": {},
   "outputs": [],
   "source": []
  },
  {
   "cell_type": "code",
   "execution_count": null,
   "id": "863307db-64d9-4eb5-afb1-62f8bc26c684",
   "metadata": {},
   "outputs": [],
   "source": []
  },
  {
   "cell_type": "code",
   "execution_count": 8,
   "id": "426c0560-ff8b-4bf0-95cb-e0ef485b0a64",
   "metadata": {},
   "outputs": [
    {
     "ename": "Py4JJavaError",
     "evalue": "An error occurred while calling o151.load.\n: java.sql.SQLException: Code: 60. DB::Exception: Unknown table expression identifier 'example_table10' in scope SELECT * FROM example_table10 WHERE 1 = 0. (UNKNOWN_TABLE) (version 25.1.1.4165 (official build))\n, server ClickHouseNode(addr=http:clickhouse/<unresolved>:8123, db=cameraaberta)@-1051864132\n\tat com.clickhouse.jdbc.SqlExceptionUtils.handle(SqlExceptionUtils.java:54)\n\tat com.clickhouse.jdbc.SqlExceptionUtils.handle(SqlExceptionUtils.java:69)\n\tat com.clickhouse.jdbc.internal.ClickHouseStatementImpl.executeStatement(ClickHouseStatementImpl.java:139)\n\tat com.clickhouse.jdbc.internal.SqlBasedPreparedStatement.executeBatch(SqlBasedPreparedStatement.java:158)\n\tat com.clickhouse.jdbc.internal.SqlBasedPreparedStatement.executeQuery(SqlBasedPreparedStatement.java:199)\n\tat org.apache.spark.sql.execution.datasources.jdbc.JDBCRDD$.getQueryOutputSchema(JDBCRDD.scala:68)\n\tat org.apache.spark.sql.execution.datasources.jdbc.JDBCRDD$.resolveTable(JDBCRDD.scala:58)\n\tat org.apache.spark.sql.execution.datasources.jdbc.JDBCRelation$.getSchema(JDBCRelation.scala:242)\n\tat org.apache.spark.sql.execution.datasources.jdbc.JdbcRelationProvider.createRelation(JdbcRelationProvider.scala:37)\n\tat org.apache.spark.sql.execution.datasources.DataSource.resolveRelation(DataSource.scala:350)\n\tat org.apache.spark.sql.DataFrameReader.loadV1Source(DataFrameReader.scala:228)\n\tat org.apache.spark.sql.DataFrameReader.$anonfun$load$2(DataFrameReader.scala:210)\n\tat scala.Option.getOrElse(Option.scala:189)\n\tat org.apache.spark.sql.DataFrameReader.load(DataFrameReader.scala:210)\n\tat org.apache.spark.sql.DataFrameReader.load(DataFrameReader.scala:171)\n\tat java.base/jdk.internal.reflect.NativeMethodAccessorImpl.invoke0(Native Method)\n\tat java.base/jdk.internal.reflect.NativeMethodAccessorImpl.invoke(NativeMethodAccessorImpl.java:77)\n\tat java.base/jdk.internal.reflect.DelegatingMethodAccessorImpl.invoke(DelegatingMethodAccessorImpl.java:43)\n\tat java.base/java.lang.reflect.Method.invoke(Method.java:568)\n\tat py4j.reflection.MethodInvoker.invoke(MethodInvoker.java:244)\n\tat py4j.reflection.ReflectionEngine.invoke(ReflectionEngine.java:357)\n\tat py4j.Gateway.invoke(Gateway.java:282)\n\tat py4j.commands.AbstractCommand.invokeMethod(AbstractCommand.java:132)\n\tat py4j.commands.CallCommand.execute(CallCommand.java:79)\n\tat py4j.ClientServerConnection.waitForCommands(ClientServerConnection.java:182)\n\tat py4j.ClientServerConnection.run(ClientServerConnection.java:106)\n\tat java.base/java.lang.Thread.run(Thread.java:833)\nCaused by: java.io.IOException: Code: 60. DB::Exception: Unknown table expression identifier 'example_table10' in scope SELECT * FROM example_table10 WHERE 1 = 0. (UNKNOWN_TABLE) (version 25.1.1.4165 (official build))\n\n\tat com.clickhouse.client.http.HttpUrlConnectionImpl.checkResponse(HttpUrlConnectionImpl.java:130)\n\tat com.clickhouse.client.http.HttpUrlConnectionImpl.post(HttpUrlConnectionImpl.java:201)\n\tat com.clickhouse.client.http.ClickHouseHttpClient.postRequest(ClickHouseHttpClient.java:88)\n\tat com.clickhouse.client.http.ClickHouseHttpClient.execute(ClickHouseHttpClient.java:115)\n\tat com.clickhouse.client.ClickHouseRequest.execute(ClickHouseRequest.java:1375)\n\tat com.clickhouse.jdbc.internal.ClickHouseStatementImpl.executeStatement(ClickHouseStatementImpl.java:133)\n\t... 24 more\n",
     "output_type": "error",
     "traceback": [
      "\u001b[0;31m---------------------------------------------------------------------------\u001b[0m",
      "\u001b[0;31mPy4JJavaError\u001b[0m                             Traceback (most recent call last)",
      "Cell \u001b[0;32mIn[8], line 8\u001b[0m\n\u001b[1;32m      1\u001b[0m df \u001b[38;5;241m=\u001b[39m \u001b[43mspark\u001b[49m\u001b[38;5;241;43m.\u001b[39;49m\u001b[43mread\u001b[49m\u001b[43m \u001b[49m\u001b[43m\\\u001b[49m\n\u001b[1;32m      2\u001b[0m \u001b[43m    \u001b[49m\u001b[38;5;241;43m.\u001b[39;49m\u001b[43mformat\u001b[49m\u001b[43m(\u001b[49m\u001b[38;5;124;43m\"\u001b[39;49m\u001b[38;5;124;43mjdbc\u001b[39;49m\u001b[38;5;124;43m\"\u001b[39;49m\u001b[43m)\u001b[49m\u001b[43m \u001b[49m\u001b[43m\\\u001b[49m\n\u001b[1;32m      3\u001b[0m \u001b[43m    \u001b[49m\u001b[38;5;241;43m.\u001b[39;49m\u001b[43moption\u001b[49m\u001b[43m(\u001b[49m\u001b[38;5;124;43m\"\u001b[39;49m\u001b[38;5;124;43mdriver\u001b[39;49m\u001b[38;5;124;43m\"\u001b[39;49m\u001b[43m,\u001b[49m\u001b[43m \u001b[49m\u001b[43mdriver\u001b[49m\u001b[43m)\u001b[49m\u001b[43m \u001b[49m\u001b[43m\\\u001b[49m\n\u001b[1;32m      4\u001b[0m \u001b[43m    \u001b[49m\u001b[38;5;241;43m.\u001b[39;49m\u001b[43moption\u001b[49m\u001b[43m(\u001b[49m\u001b[38;5;124;43m\"\u001b[39;49m\u001b[38;5;124;43murl\u001b[39;49m\u001b[38;5;124;43m\"\u001b[39;49m\u001b[43m,\u001b[49m\u001b[43m \u001b[49m\u001b[43murl\u001b[49m\u001b[43m)\u001b[49m\u001b[43m \u001b[49m\u001b[43m\\\u001b[49m\n\u001b[1;32m      5\u001b[0m \u001b[43m    \u001b[49m\u001b[38;5;241;43m.\u001b[39;49m\u001b[43moption\u001b[49m\u001b[43m(\u001b[49m\u001b[38;5;124;43m\"\u001b[39;49m\u001b[38;5;124;43muser\u001b[39;49m\u001b[38;5;124;43m\"\u001b[39;49m\u001b[43m,\u001b[49m\u001b[43m \u001b[49m\u001b[43muser\u001b[49m\u001b[43m)\u001b[49m\u001b[43m \u001b[49m\u001b[43m\\\u001b[49m\n\u001b[1;32m      6\u001b[0m \u001b[43m    \u001b[49m\u001b[38;5;241;43m.\u001b[39;49m\u001b[43moption\u001b[49m\u001b[43m(\u001b[49m\u001b[38;5;124;43m\"\u001b[39;49m\u001b[38;5;124;43mpassword\u001b[39;49m\u001b[38;5;124;43m\"\u001b[39;49m\u001b[43m,\u001b[49m\u001b[43m \u001b[49m\u001b[43mpassword\u001b[49m\u001b[43m)\u001b[49m\u001b[43m \u001b[49m\u001b[43m\\\u001b[49m\n\u001b[1;32m      7\u001b[0m \u001b[43m    \u001b[49m\u001b[38;5;241;43m.\u001b[39;49m\u001b[43moption\u001b[49m\u001b[43m(\u001b[49m\u001b[38;5;124;43m\"\u001b[39;49m\u001b[38;5;124;43mdbtable\u001b[39;49m\u001b[38;5;124;43m\"\u001b[39;49m\u001b[43m,\u001b[49m\u001b[43m \u001b[49m\u001b[38;5;124;43m\"\u001b[39;49m\u001b[38;5;124;43mexample_table10\u001b[39;49m\u001b[38;5;124;43m\"\u001b[39;49m\u001b[43m)\u001b[49m\u001b[43m \u001b[49m\u001b[43m\\\u001b[49m\n\u001b[0;32m----> 8\u001b[0m \u001b[43m    \u001b[49m\u001b[38;5;241;43m.\u001b[39;49m\u001b[43mload\u001b[49m\u001b[43m(\u001b[49m\u001b[43m)\u001b[49m\n\u001b[1;32m     10\u001b[0m df\u001b[38;5;241m.\u001b[39mshow()\n",
      "File \u001b[0;32m/usr/local/spark/python/pyspark/sql/readwriter.py:184\u001b[0m, in \u001b[0;36mDataFrameReader.load\u001b[0;34m(self, path, format, schema, **options)\u001b[0m\n\u001b[1;32m    182\u001b[0m     \u001b[38;5;28;01mreturn\u001b[39;00m \u001b[38;5;28mself\u001b[39m\u001b[38;5;241m.\u001b[39m_df(\u001b[38;5;28mself\u001b[39m\u001b[38;5;241m.\u001b[39m_jreader\u001b[38;5;241m.\u001b[39mload(\u001b[38;5;28mself\u001b[39m\u001b[38;5;241m.\u001b[39m_spark\u001b[38;5;241m.\u001b[39m_sc\u001b[38;5;241m.\u001b[39m_jvm\u001b[38;5;241m.\u001b[39mPythonUtils\u001b[38;5;241m.\u001b[39mtoSeq(path)))\n\u001b[1;32m    183\u001b[0m \u001b[38;5;28;01melse\u001b[39;00m:\n\u001b[0;32m--> 184\u001b[0m     \u001b[38;5;28;01mreturn\u001b[39;00m \u001b[38;5;28mself\u001b[39m\u001b[38;5;241m.\u001b[39m_df(\u001b[38;5;28;43mself\u001b[39;49m\u001b[38;5;241;43m.\u001b[39;49m\u001b[43m_jreader\u001b[49m\u001b[38;5;241;43m.\u001b[39;49m\u001b[43mload\u001b[49m\u001b[43m(\u001b[49m\u001b[43m)\u001b[49m)\n",
      "File \u001b[0;32m/usr/local/spark/python/lib/py4j-0.10.9.5-src.zip/py4j/java_gateway.py:1321\u001b[0m, in \u001b[0;36mJavaMember.__call__\u001b[0;34m(self, *args)\u001b[0m\n\u001b[1;32m   1315\u001b[0m command \u001b[38;5;241m=\u001b[39m proto\u001b[38;5;241m.\u001b[39mCALL_COMMAND_NAME \u001b[38;5;241m+\u001b[39m\\\n\u001b[1;32m   1316\u001b[0m     \u001b[38;5;28mself\u001b[39m\u001b[38;5;241m.\u001b[39mcommand_header \u001b[38;5;241m+\u001b[39m\\\n\u001b[1;32m   1317\u001b[0m     args_command \u001b[38;5;241m+\u001b[39m\\\n\u001b[1;32m   1318\u001b[0m     proto\u001b[38;5;241m.\u001b[39mEND_COMMAND_PART\n\u001b[1;32m   1320\u001b[0m answer \u001b[38;5;241m=\u001b[39m \u001b[38;5;28mself\u001b[39m\u001b[38;5;241m.\u001b[39mgateway_client\u001b[38;5;241m.\u001b[39msend_command(command)\n\u001b[0;32m-> 1321\u001b[0m return_value \u001b[38;5;241m=\u001b[39m \u001b[43mget_return_value\u001b[49m\u001b[43m(\u001b[49m\n\u001b[1;32m   1322\u001b[0m \u001b[43m    \u001b[49m\u001b[43manswer\u001b[49m\u001b[43m,\u001b[49m\u001b[43m \u001b[49m\u001b[38;5;28;43mself\u001b[39;49m\u001b[38;5;241;43m.\u001b[39;49m\u001b[43mgateway_client\u001b[49m\u001b[43m,\u001b[49m\u001b[43m \u001b[49m\u001b[38;5;28;43mself\u001b[39;49m\u001b[38;5;241;43m.\u001b[39;49m\u001b[43mtarget_id\u001b[49m\u001b[43m,\u001b[49m\u001b[43m \u001b[49m\u001b[38;5;28;43mself\u001b[39;49m\u001b[38;5;241;43m.\u001b[39;49m\u001b[43mname\u001b[49m\u001b[43m)\u001b[49m\n\u001b[1;32m   1324\u001b[0m \u001b[38;5;28;01mfor\u001b[39;00m temp_arg \u001b[38;5;129;01min\u001b[39;00m temp_args:\n\u001b[1;32m   1325\u001b[0m     temp_arg\u001b[38;5;241m.\u001b[39m_detach()\n",
      "File \u001b[0;32m/usr/local/spark/python/pyspark/sql/utils.py:190\u001b[0m, in \u001b[0;36mcapture_sql_exception.<locals>.deco\u001b[0;34m(*a, **kw)\u001b[0m\n\u001b[1;32m    188\u001b[0m \u001b[38;5;28;01mdef\u001b[39;00m \u001b[38;5;21mdeco\u001b[39m(\u001b[38;5;241m*\u001b[39ma: Any, \u001b[38;5;241m*\u001b[39m\u001b[38;5;241m*\u001b[39mkw: Any) \u001b[38;5;241m-\u001b[39m\u001b[38;5;241m>\u001b[39m Any:\n\u001b[1;32m    189\u001b[0m     \u001b[38;5;28;01mtry\u001b[39;00m:\n\u001b[0;32m--> 190\u001b[0m         \u001b[38;5;28;01mreturn\u001b[39;00m \u001b[43mf\u001b[49m\u001b[43m(\u001b[49m\u001b[38;5;241;43m*\u001b[39;49m\u001b[43ma\u001b[49m\u001b[43m,\u001b[49m\u001b[43m \u001b[49m\u001b[38;5;241;43m*\u001b[39;49m\u001b[38;5;241;43m*\u001b[39;49m\u001b[43mkw\u001b[49m\u001b[43m)\u001b[49m\n\u001b[1;32m    191\u001b[0m     \u001b[38;5;28;01mexcept\u001b[39;00m Py4JJavaError \u001b[38;5;28;01mas\u001b[39;00m e:\n\u001b[1;32m    192\u001b[0m         converted \u001b[38;5;241m=\u001b[39m convert_exception(e\u001b[38;5;241m.\u001b[39mjava_exception)\n",
      "File \u001b[0;32m/usr/local/spark/python/lib/py4j-0.10.9.5-src.zip/py4j/protocol.py:326\u001b[0m, in \u001b[0;36mget_return_value\u001b[0;34m(answer, gateway_client, target_id, name)\u001b[0m\n\u001b[1;32m    324\u001b[0m value \u001b[38;5;241m=\u001b[39m OUTPUT_CONVERTER[\u001b[38;5;28mtype\u001b[39m](answer[\u001b[38;5;241m2\u001b[39m:], gateway_client)\n\u001b[1;32m    325\u001b[0m \u001b[38;5;28;01mif\u001b[39;00m answer[\u001b[38;5;241m1\u001b[39m] \u001b[38;5;241m==\u001b[39m REFERENCE_TYPE:\n\u001b[0;32m--> 326\u001b[0m     \u001b[38;5;28;01mraise\u001b[39;00m Py4JJavaError(\n\u001b[1;32m    327\u001b[0m         \u001b[38;5;124m\"\u001b[39m\u001b[38;5;124mAn error occurred while calling \u001b[39m\u001b[38;5;132;01m{0}\u001b[39;00m\u001b[38;5;132;01m{1}\u001b[39;00m\u001b[38;5;132;01m{2}\u001b[39;00m\u001b[38;5;124m.\u001b[39m\u001b[38;5;130;01m\\n\u001b[39;00m\u001b[38;5;124m\"\u001b[39m\u001b[38;5;241m.\u001b[39m\n\u001b[1;32m    328\u001b[0m         \u001b[38;5;28mformat\u001b[39m(target_id, \u001b[38;5;124m\"\u001b[39m\u001b[38;5;124m.\u001b[39m\u001b[38;5;124m\"\u001b[39m, name), value)\n\u001b[1;32m    329\u001b[0m \u001b[38;5;28;01melse\u001b[39;00m:\n\u001b[1;32m    330\u001b[0m     \u001b[38;5;28;01mraise\u001b[39;00m Py4JError(\n\u001b[1;32m    331\u001b[0m         \u001b[38;5;124m\"\u001b[39m\u001b[38;5;124mAn error occurred while calling \u001b[39m\u001b[38;5;132;01m{0}\u001b[39;00m\u001b[38;5;132;01m{1}\u001b[39;00m\u001b[38;5;132;01m{2}\u001b[39;00m\u001b[38;5;124m. Trace:\u001b[39m\u001b[38;5;130;01m\\n\u001b[39;00m\u001b[38;5;132;01m{3}\u001b[39;00m\u001b[38;5;130;01m\\n\u001b[39;00m\u001b[38;5;124m\"\u001b[39m\u001b[38;5;241m.\u001b[39m\n\u001b[1;32m    332\u001b[0m         \u001b[38;5;28mformat\u001b[39m(target_id, \u001b[38;5;124m\"\u001b[39m\u001b[38;5;124m.\u001b[39m\u001b[38;5;124m\"\u001b[39m, name, value))\n",
      "\u001b[0;31mPy4JJavaError\u001b[0m: An error occurred while calling o151.load.\n: java.sql.SQLException: Code: 60. DB::Exception: Unknown table expression identifier 'example_table10' in scope SELECT * FROM example_table10 WHERE 1 = 0. (UNKNOWN_TABLE) (version 25.1.1.4165 (official build))\n, server ClickHouseNode(addr=http:clickhouse/<unresolved>:8123, db=cameraaberta)@-1051864132\n\tat com.clickhouse.jdbc.SqlExceptionUtils.handle(SqlExceptionUtils.java:54)\n\tat com.clickhouse.jdbc.SqlExceptionUtils.handle(SqlExceptionUtils.java:69)\n\tat com.clickhouse.jdbc.internal.ClickHouseStatementImpl.executeStatement(ClickHouseStatementImpl.java:139)\n\tat com.clickhouse.jdbc.internal.SqlBasedPreparedStatement.executeBatch(SqlBasedPreparedStatement.java:158)\n\tat com.clickhouse.jdbc.internal.SqlBasedPreparedStatement.executeQuery(SqlBasedPreparedStatement.java:199)\n\tat org.apache.spark.sql.execution.datasources.jdbc.JDBCRDD$.getQueryOutputSchema(JDBCRDD.scala:68)\n\tat org.apache.spark.sql.execution.datasources.jdbc.JDBCRDD$.resolveTable(JDBCRDD.scala:58)\n\tat org.apache.spark.sql.execution.datasources.jdbc.JDBCRelation$.getSchema(JDBCRelation.scala:242)\n\tat org.apache.spark.sql.execution.datasources.jdbc.JdbcRelationProvider.createRelation(JdbcRelationProvider.scala:37)\n\tat org.apache.spark.sql.execution.datasources.DataSource.resolveRelation(DataSource.scala:350)\n\tat org.apache.spark.sql.DataFrameReader.loadV1Source(DataFrameReader.scala:228)\n\tat org.apache.spark.sql.DataFrameReader.$anonfun$load$2(DataFrameReader.scala:210)\n\tat scala.Option.getOrElse(Option.scala:189)\n\tat org.apache.spark.sql.DataFrameReader.load(DataFrameReader.scala:210)\n\tat org.apache.spark.sql.DataFrameReader.load(DataFrameReader.scala:171)\n\tat java.base/jdk.internal.reflect.NativeMethodAccessorImpl.invoke0(Native Method)\n\tat java.base/jdk.internal.reflect.NativeMethodAccessorImpl.invoke(NativeMethodAccessorImpl.java:77)\n\tat java.base/jdk.internal.reflect.DelegatingMethodAccessorImpl.invoke(DelegatingMethodAccessorImpl.java:43)\n\tat java.base/java.lang.reflect.Method.invoke(Method.java:568)\n\tat py4j.reflection.MethodInvoker.invoke(MethodInvoker.java:244)\n\tat py4j.reflection.ReflectionEngine.invoke(ReflectionEngine.java:357)\n\tat py4j.Gateway.invoke(Gateway.java:282)\n\tat py4j.commands.AbstractCommand.invokeMethod(AbstractCommand.java:132)\n\tat py4j.commands.CallCommand.execute(CallCommand.java:79)\n\tat py4j.ClientServerConnection.waitForCommands(ClientServerConnection.java:182)\n\tat py4j.ClientServerConnection.run(ClientServerConnection.java:106)\n\tat java.base/java.lang.Thread.run(Thread.java:833)\nCaused by: java.io.IOException: Code: 60. DB::Exception: Unknown table expression identifier 'example_table10' in scope SELECT * FROM example_table10 WHERE 1 = 0. (UNKNOWN_TABLE) (version 25.1.1.4165 (official build))\n\n\tat com.clickhouse.client.http.HttpUrlConnectionImpl.checkResponse(HttpUrlConnectionImpl.java:130)\n\tat com.clickhouse.client.http.HttpUrlConnectionImpl.post(HttpUrlConnectionImpl.java:201)\n\tat com.clickhouse.client.http.ClickHouseHttpClient.postRequest(ClickHouseHttpClient.java:88)\n\tat com.clickhouse.client.http.ClickHouseHttpClient.execute(ClickHouseHttpClient.java:115)\n\tat com.clickhouse.client.ClickHouseRequest.execute(ClickHouseRequest.java:1375)\n\tat com.clickhouse.jdbc.internal.ClickHouseStatementImpl.executeStatement(ClickHouseStatementImpl.java:133)\n\t... 24 more\n"
     ]
    }
   ],
   "source": [
    "df = spark.read \\\n",
    "    .format(\"jdbc\") \\\n",
    "    .option(\"driver\", driver) \\\n",
    "    .option(\"url\", url) \\\n",
    "    .option(\"user\", user) \\\n",
    "    .option(\"password\", password) \\\n",
    "    .option(\"dbtable\", \"example_table10\") \\\n",
    "    .load()\n",
    "\n",
    "df.show()\n"
   ]
  },
  {
   "cell_type": "code",
   "execution_count": null,
   "id": "3258e04b-ae0e-47e8-81c7-af9e89903bad",
   "metadata": {},
   "outputs": [],
   "source": []
  }
 ],
 "metadata": {
  "kernelspec": {
   "display_name": "Python 3 (ipykernel)",
   "language": "python",
   "name": "python3"
  },
  "language_info": {
   "codemirror_mode": {
    "name": "ipython",
    "version": 3
   },
   "file_extension": ".py",
   "mimetype": "text/x-python",
   "name": "python",
   "nbconvert_exporter": "python",
   "pygments_lexer": "ipython3",
   "version": "3.10.8"
  }
 },
 "nbformat": 4,
 "nbformat_minor": 5
}
