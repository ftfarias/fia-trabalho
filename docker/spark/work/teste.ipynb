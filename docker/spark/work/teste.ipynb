{
 "cells": [
  {
   "cell_type": "code",
   "execution_count": 1,
   "id": "29e4b216-4ad4-4b79-bd37-fa5749ab546a",
   "metadata": {},
   "outputs": [
    {
     "name": "stdout",
     "output_type": "stream",
     "text": [
      "+-------+----------------+---------+----------+----------+\n",
      "|stop_id|       stop_name|stop_desc|  stop_lat|  stop_lon|\n",
      "+-------+----------------+---------+----------+----------+\n",
      "|  18848|        Clínicas|     null|-23.554022|-46.671108|\n",
      "|  18849|   Vila Madalena|     null|-23.546498|-46.691141|\n",
      "|  18850|      Consolação|     null|-23.558094|-46.660205|\n",
      "|  18851|       Conceição|     null|-23.635039|-46.641239|\n",
      "|  18852|       Jabaquara|     null|-23.646033|-46.641028|\n",
      "|  18853|       São Judas|     null|-23.625882|-46.640936|\n",
      "|  18854|           Saúde|     null|-23.618245|-46.639139|\n",
      "|  18855| Praça Da Árvore|     null|-23.610583|-46.637918|\n",
      "|  18856|      Santa Cruz|     null|-23.598541|-46.636638|\n",
      "|  18857|    Vila Mariana|     null|-23.589359|-46.634677|\n",
      "|  18858|      Brigadeiro|     null|-23.567615|-46.649027|\n",
      "|  18859|    Trianon-masp|     null|-23.563570|-46.653893|\n",
      "|  18860|        Ana Rosa|     null|-23.581203|-46.638489|\n",
      "|  18861|         Paraíso|     null|-23.575400|-46.640700|\n",
      "|  18862|       Vergueiro|     null|-23.568521|-46.639904|\n",
      "|  18863|     São Joaquim|     null|-23.561435|-46.638534|\n",
      "|  18864|Marechal Deodoro|     null|-23.533163|-46.657264|\n",
      "|  18865|   Santa Cecília|     null|-23.538095|-46.649009|\n",
      "|  18866|       República|     null|-23.544215|-46.642461|\n",
      "|  18867|      Anhangabaú|     null|-23.547800|-46.639200|\n",
      "+-------+----------------+---------+----------+----------+\n",
      "only showing top 20 rows\n",
      "\n"
     ]
    }
   ],
   "source": [
    "from pyspark.sql import SparkSession\n",
    "\n",
    "\n",
    "# Create a SparkSession\n",
    "spark = SparkSession.builder.master(\"spark://spark-master:7077\").getOrCreate()\n",
    "# Get the SparkContext from the SparkSession\n",
    "sc = spark.sparkContext\n",
    "# Set the MinIO access key, secret key, endpoint, and other configurations\n",
    "sc._jsc.hadoopConfiguration().set(\"fs.s3a.access.key\", \"NzUmXT2E7YJIY3m9yFBz\")\n",
    "sc._jsc.hadoopConfiguration().set(\"fs.s3a.secret.key\", \"5SCMGEtt52EziOcTUi9dyMt5dfFE2MBaK1ZaskPX\")\n",
    "sc._jsc.hadoopConfiguration().set(\"fs.s3a.endpoint\", \"http://minio:9000\")\n",
    "sc._jsc.hadoopConfiguration().set(\"fs.s3a.path.style.access\", \"true\")\n",
    "sc._jsc.hadoopConfiguration().set(\"fs.s3a.connection.ssl.enabled\", \"false\")\n",
    "sc._jsc.hadoopConfiguration().set(\"fs.s3a.impl\", \"org.apache.hadoop.fs.s3a.S3AFileSystem\")\n",
    "sc._jsc.hadoopConfiguration().set(\"fs.s3a.connection.ssl.enabled\", \"false\")\n",
    "# Read a JSON file from an MinIO bucket using the access key, secret key, \n",
    "# and endpoint configured above\n",
    "df = spark.read.option(\"header\", \"true\") \\\n",
    "    .csv(f\"s3a://raw/stops.txt\")\n",
    "# show data\n",
    "df.show()"
   ]
  },
  {
   "cell_type": "code",
   "execution_count": 2,
   "id": "e88ab2b1-8a86-408b-87f1-a2966c3c4d7e",
   "metadata": {},
   "outputs": [
    {
     "data": {
      "text/html": [
       "\n",
       "            <div>\n",
       "                <p><b>SparkSession - in-memory</b></p>\n",
       "                \n",
       "        <div>\n",
       "            <p><b>SparkContext</b></p>\n",
       "\n",
       "            <p><a href=\"http://spark-master:4040\">Spark UI</a></p>\n",
       "\n",
       "            <dl>\n",
       "              <dt>Version</dt>\n",
       "                <dd><code>v3.3.1</code></dd>\n",
       "              <dt>Master</dt>\n",
       "                <dd><code>spark://spark-master:7077</code></dd>\n",
       "              <dt>AppName</dt>\n",
       "                <dd><code>pyspark-shell</code></dd>\n",
       "            </dl>\n",
       "        </div>\n",
       "        \n",
       "            </div>\n",
       "        "
      ],
      "text/plain": [
       "<pyspark.sql.session.SparkSession at 0x7fffe844e020>"
      ]
     },
     "metadata": {},
     "output_type": "display_data"
    },
    {
     "data": {
      "text/plain": [
       "5050"
      ]
     },
     "execution_count": 2,
     "metadata": {},
     "output_type": "execute_result"
    }
   ],
   "source": [
    "from pyspark.sql import SparkSession\n",
    "\n",
    "spark = SparkSession.builder.master(\"spark://spark-master:7077\").getOrCreate()\n",
    "display(spark)\n",
    "\n",
    "sc = spark.sparkContext\n",
    "\n",
    "# Sum of the first 100 whole numbers\n",
    "rdd = sc.parallelize(range(100 + 1))\n",
    "rdd.sum()"
   ]
  },
  {
   "cell_type": "code",
   "execution_count": 7,
   "id": "f37d702b-55f9-41bb-b1a4-86a1009500a0",
   "metadata": {},
   "outputs": [
    {
     "name": "stdout",
     "output_type": "stream",
     "text": [
      "+-------+----------------+---------+----------+----------+\n",
      "|stop_id|       stop_name|stop_desc|  stop_lat|  stop_lon|\n",
      "+-------+----------------+---------+----------+----------+\n",
      "|  18848|        Clínicas|     null|-23.554022|-46.671108|\n",
      "|  18849|   Vila Madalena|     null|-23.546498|-46.691141|\n",
      "|  18850|      Consolação|     null|-23.558094|-46.660205|\n",
      "|  18851|       Conceição|     null|-23.635039|-46.641239|\n",
      "|  18852|       Jabaquara|     null|-23.646033|-46.641028|\n",
      "|  18853|       São Judas|     null|-23.625882|-46.640936|\n",
      "|  18854|           Saúde|     null|-23.618245|-46.639139|\n",
      "|  18855| Praça Da Árvore|     null|-23.610583|-46.637918|\n",
      "|  18856|      Santa Cruz|     null|-23.598541|-46.636638|\n",
      "|  18857|    Vila Mariana|     null|-23.589359|-46.634677|\n",
      "|  18858|      Brigadeiro|     null|-23.567615|-46.649027|\n",
      "|  18859|    Trianon-masp|     null| -23.56357|-46.653893|\n",
      "|  18860|        Ana Rosa|     null|-23.581203|-46.638489|\n",
      "|  18861|         Paraíso|     null|  -23.5754|  -46.6407|\n",
      "|  18862|       Vergueiro|     null|-23.568521|-46.639904|\n",
      "|  18863|     São Joaquim|     null|-23.561435|-46.638534|\n",
      "|  18864|Marechal Deodoro|     null|-23.533163|-46.657264|\n",
      "|  18865|   Santa Cecília|     null|-23.538095|-46.649009|\n",
      "|  18866|       República|     null|-23.544215|-46.642461|\n",
      "|  18867|      Anhangabaú|     null|  -23.5478|  -46.6392|\n",
      "+-------+----------------+---------+----------+----------+\n",
      "only showing top 20 rows\n",
      "\n",
      "root\n",
      " |-- stop_id: integer (nullable = true)\n",
      " |-- stop_name: string (nullable = true)\n",
      " |-- stop_desc: string (nullable = true)\n",
      " |-- stop_lat: double (nullable = true)\n",
      " |-- stop_lon: double (nullable = true)\n",
      "\n"
     ]
    }
   ],
   "source": [
    "\n",
    "\n",
    "from pyspark.sql import SparkSession\n",
    "from pyspark.sql import Row\n",
    "\n",
    "jar_files = [\n",
    "    \"/util/clickhouse-jdbc-0.3.2-all.jar\"\n",
    "]\n",
    "\n",
    "# Initialize Spark session with JARs\n",
    "spark = SparkSession.builder \\\n",
    "    .appName(\"test-jdbc\") \\\n",
    "    .master(\"spark://spark-master:7077\") \\\n",
    "    .config(\"spark.jars\", \",\".join(jar_files)) \\\n",
    "    .config(\"spark.sql.extensions\", \"io.delta.sql.DeltaSparkSessionExtension\") \\\n",
    "    .config(\"spark.sql.catalog.spark_catalog\", \"org.apache.spark.sql.delta.catalog.DeltaCatalog\") \\\n",
    "    .config(\"spark.sql.extensions\",\"io.delta.sql.DeltaSparkSessionExtension\") \\\n",
    "    .config(\"spark.sql.catalog.spark_catalog\",\"org.apache.spark.sql.delta.catalog.DeltaCatalog\") \\\n",
    "    .config(\"spark.hadoop.fs.s3a.access.key\",\"NzUmXT2E7YJIY3m9yFBz\") \\\n",
    "    .config(\"spark.hadoop.fs.s3a.secret.key\",\"5SCMGEtt52EziOcTUi9dyMt5dfFE2MBaK1ZaskPX\") \\\n",
    "    .config(\"spark.hadoop.fs.s3a.endpoint\",\"http://minio:9000\") \\\n",
    "    .config(\"spark.hadoop.fs.s3a.path.style.access\", \"true\") \\\n",
    "    .config(\"spark.hadoop.fs.s3a.impl\", \"org.apache.hadoop.fs.s3a.S3AFileSystem\") \\\n",
    "    .getOrCreate()\n",
    "\n",
    "\n",
    "url = \"jdbc:ch://clickhouse:8123/cameraaberta\"\n",
    "user = \"admin\" \n",
    "password = \"admin\"  \n",
    "driver = \"com.clickhouse.jdbc.ClickHouseDriver\"\n",
    "\n",
    "df = spark.read.option(\"inferSchema\", True).option(\"header\", \"true\") \\\n",
    "    .csv(f\"s3a://raw/stops.txt\")\n",
    "# show data\n",
    "df.show()\n",
    "\n",
    "\n",
    "df.printSchema()\n",
    "\n",
    "# Write DataFrame to ClickHouse\n",
    "df.write \\\n",
    "    .format(\"jdbc\") \\\n",
    "    .option(\"driver\", driver) \\\n",
    "    .option(\"url\", url) \\\n",
    "    .option(\"user\", user) \\\n",
    "    .option(\"password\", password) \\\n",
    "    .option(\"dbtable\", \"stops\") \\\n",
    "    .option(\"createTableOptions\", \"ENGINE=MergeTree() ORDER BY (stop_id)\") \\\n",
    "    .mode(\"overwrite\") \\\n",
    "    .save()\n",
    "\n"
   ]
  },
  {
   "cell_type": "code",
   "execution_count": 39,
   "id": "426c0560-ff8b-4bf0-95cb-e0ef485b0a64",
   "metadata": {},
   "outputs": [
    {
     "name": "stdout",
     "output_type": "stream",
     "text": [
      "+---+----+\n",
      "| id|name|\n",
      "+---+----+\n",
      "| 11|John|\n",
      "| 12| Doe|\n",
      "+---+----+\n",
      "\n"
     ]
    }
   ],
   "source": [
    "df = spark.read \\\n",
    "    .format(\"jdbc\") \\\n",
    "    .option(\"driver\", driver) \\\n",
    "    .option(\"url\", url) \\\n",
    "    .option(\"user\", user) \\\n",
    "    .option(\"password\", password) \\\n",
    "    .option(\"dbtable\", \"example_table10\") \\\n",
    "    .load()\n",
    "\n",
    "df.show()\n"
   ]
  },
  {
   "cell_type": "code",
   "execution_count": null,
   "id": "3258e04b-ae0e-47e8-81c7-af9e89903bad",
   "metadata": {},
   "outputs": [],
   "source": []
  }
 ],
 "metadata": {
  "kernelspec": {
   "display_name": "Python 3 (ipykernel)",
   "language": "python",
   "name": "python3"
  },
  "language_info": {
   "codemirror_mode": {
    "name": "ipython",
    "version": 3
   },
   "file_extension": ".py",
   "mimetype": "text/x-python",
   "name": "python",
   "nbconvert_exporter": "python",
   "pygments_lexer": "ipython3",
   "version": "3.10.8"
  }
 },
 "nbformat": 4,
 "nbformat_minor": 5
}
