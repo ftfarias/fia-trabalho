{
 "cells": [
  {
   "cell_type": "code",
   "execution_count": 1,
   "id": "56473bbd-a724-428e-891a-588af525f46b",
   "metadata": {},
   "outputs": [
    {
     "data": {
      "text/html": [
       "\n",
       "            <div>\n",
       "                <p><b>SparkSession - in-memory</b></p>\n",
       "                \n",
       "        <div>\n",
       "            <p><b>SparkContext</b></p>\n",
       "\n",
       "            <p><a href=\"http://spark-master:4040\">Spark UI</a></p>\n",
       "\n",
       "            <dl>\n",
       "              <dt>Version</dt>\n",
       "                <dd><code>v3.3.1</code></dd>\n",
       "              <dt>Master</dt>\n",
       "                <dd><code>spark://spark-master:7077</code></dd>\n",
       "              <dt>AppName</dt>\n",
       "                <dd><code>combina_shapes</code></dd>\n",
       "            </dl>\n",
       "        </div>\n",
       "        \n",
       "            </div>\n",
       "        "
      ],
      "text/plain": [
       "<pyspark.sql.session.SparkSession at 0x7ffff0cac5e0>"
      ]
     },
     "metadata": {},
     "output_type": "display_data"
    }
   ],
   "source": [
    "from pyspark.sql import SparkSession\n",
    "from pyspark.sql import Row\n",
    "import pandas as pd\n",
    "\n",
    "jar_files = [\n",
    "    \"/util/clickhouse-jdbc-0.3.2-all.jar\"\n",
    "]\n",
    "\n",
    "# Initialize Spark session with JARs\n",
    "spark = SparkSession.builder \\\n",
    "    .appName(\"combina_shapes\") \\\n",
    "    .master(\"spark://spark-master:7077\") \\\n",
    "    .config(\"spark.jars\", \",\".join(jar_files)) \\\n",
    "    .config(\"spark.sql.extensions\", \"io.delta.sql.DeltaSparkSessionExtension\") \\\n",
    "    .config(\"spark.sql.catalog.spark_catalog\", \"org.apache.spark.sql.delta.catalog.DeltaCatalog\") \\\n",
    "    .config(\"spark.sql.extensions\",\"io.delta.sql.DeltaSparkSessionExtension\") \\\n",
    "    .config(\"spark.sql.catalog.spark_catalog\",\"org.apache.spark.sql.delta.catalog.DeltaCatalog\") \\\n",
    "    .config(\"spark.hadoop.fs.s3a.access.key\",\"admin\") \\\n",
    "    .config(\"spark.hadoop.fs.s3a.secret.key\",\"minioadmin\") \\\n",
    "    .config(\"spark.hadoop.fs.s3a.endpoint\",\"http://minio:9000\") \\\n",
    "    .config(\"spark.hadoop.fs.s3a.path.style.access\", \"true\") \\\n",
    "    .config(\"spark.hadoop.fs.s3a.impl\", \"org.apache.hadoop.fs.s3a.S3AFileSystem\") \\\n",
    "    .getOrCreate()\n",
    "\n",
    "\n",
    "url = \"jdbc:ch://clickhouse:8123/cameraaberta\"\n",
    "user = \"admin\" \n",
    "password = \"admin\"  \n",
    "driver = \"com.clickhouse.jdbc.ClickHouseDriver\"\n",
    "\n",
    "display(spark)"
   ]
  },
  {
   "cell_type": "code",
   "execution_count": 2,
   "id": "60b722c7-8076-4d76-babe-205649ecd13a",
   "metadata": {},
   "outputs": [],
   "source": [
    "# df_previsao = pd.read_json(f'./previsao.json', ignore)\n",
    "# print(df_previsao.shape)\n",
    "# df_previsao.head()"
   ]
  },
  {
   "cell_type": "code",
   "execution_count": null,
   "id": "9e77ebbb-e12b-4489-8baf-d8c70dac6d82",
   "metadata": {},
   "outputs": [],
   "source": [
    "df_stops = spark.read.option(\"inferSchema\", True).option(\"header\", \"true\") \\\n",
    "    .csv(f\"s3a://raw/stops.txt\").toPandas()\n",
    "# show data\n",
    "df_stops.head(10)"
   ]
  },
  {
   "cell_type": "code",
   "execution_count": null,
   "id": "4158f1f2-d904-4bec-b908-2eeae124f988",
   "metadata": {},
   "outputs": [],
   "source": [
    "df_trips = spark.read.option(\"inferSchema\", True).option(\"header\", \"true\") \\\n",
    "    .csv(f\"s3a://raw/trips.txt\").toPandas()\n",
    "# show data\n",
    "df_trips.head(10)"
   ]
  },
  {
   "cell_type": "code",
   "execution_count": null,
   "id": "0dbeab97-04fa-47ff-99da-8fccb42e2dff",
   "metadata": {},
   "outputs": [],
   "source": [
    "df_shapes = pd.read_csv('trips_stops.csv')\n",
    "# show data\n",
    "df_shapes.head(10)"
   ]
  },
  {
   "cell_type": "code",
   "execution_count": null,
   "id": "fa61b4f1-af90-458a-b660-83c917e99f67",
   "metadata": {},
   "outputs": [],
   "source": [
    "random.randint(-2, +10)"
   ]
  },
  {
   "cell_type": "code",
   "execution_count": null,
   "id": "c6d17669-8de6-4401-8339-cabca6f73c43",
   "metadata": {},
   "outputs": [],
   "source": [
    "import random\n",
    "\n",
    "\n",
    "list_trips = df_trips['trip_id'].values\n",
    "\n",
    "data = []\n",
    "\n",
    "for s in df_shapes.values:\n",
    "    data.append({\"vs_ta\" : 1, \"trip_id\":random.choice(list_trips),  'stop_id': float(s[6]), 'vs_p': '1', 'shape_id': int(s[1]), 'vs_t': random.randint(-2, +10) })\n",
    "    \n",
    "data[:10]\n",
    "    "
   ]
  },
  {
   "cell_type": "code",
   "execution_count": null,
   "id": "ce4bbdf6-79fb-47da-871e-cd84b64112d9",
   "metadata": {},
   "outputs": [],
   "source": [
    "df_chegadas = spark.createDataFrame(data)\n",
    "print('gravando Clickhouse')\n",
    "df_chegadas.write \\\n",
    "    .format(\"jdbc\") \\\n",
    "    .option(\"driver\", driver) \\\n",
    "    .option(\"url\", url) \\\n",
    "    .option(\"user\", user) \\\n",
    "    .option(\"password\", password) \\\n",
    "    .option(\"dbtable\", \"chegadas\") \\\n",
    "    .option(\"createTableOptions\", \"ENGINE=Log()\") \\\n",
    "    .mode(\"overwrite\") \\\n",
    "    .save()\n",
    "print('gravando Minio')\n",
    "df_chegadas.write.csv(f\"s3a://trusted/chegadas.csv\")"
   ]
  },
  {
   "cell_type": "code",
   "execution_count": null,
   "id": "00d1ab2b-34a1-43c4-91bd-a942ec561b08",
   "metadata": {},
   "outputs": [],
   "source": []
  },
  {
   "cell_type": "code",
   "execution_count": null,
   "id": "5be7a46c-08b9-46d1-8c2a-4b80cd311463",
   "metadata": {},
   "outputs": [],
   "source": []
  },
  {
   "cell_type": "code",
   "execution_count": null,
   "id": "90f8981b-16d0-4e31-8eba-012970e42a57",
   "metadata": {},
   "outputs": [],
   "source": []
  }
 ],
 "metadata": {
  "kernelspec": {
   "display_name": "Python 3 (ipykernel)",
   "language": "python",
   "name": "python3"
  },
  "language_info": {
   "codemirror_mode": {
    "name": "ipython",
    "version": 3
   },
   "file_extension": ".py",
   "mimetype": "text/x-python",
   "name": "python",
   "nbconvert_exporter": "python",
   "pygments_lexer": "ipython3",
   "version": "3.10.8"
  }
 },
 "nbformat": 4,
 "nbformat_minor": 5
}
